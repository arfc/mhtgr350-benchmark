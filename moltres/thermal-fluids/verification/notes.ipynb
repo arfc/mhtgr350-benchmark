{
 "cells": [
  {
   "cell_type": "code",
   "execution_count": 1,
   "metadata": {},
   "outputs": [],
   "source": [
    "import numpy as np\n",
    "import matplotlib.pyplot as plt"
   ]
  },
  {
   "cell_type": "markdown",
   "metadata": {},
   "source": [
    "# Verification: 2D-preliminar"
   ]
  },
  {
   "cell_type": "code",
   "execution_count": 2,
   "metadata": {},
   "outputs": [
    {
     "name": "stdout",
     "output_type": "stream",
     "text": [
      "0.795\n"
     ]
    },
    {
     "data": {
      "text/plain": [
       "1.3491200836100543"
      ]
     },
     "execution_count": 2,
     "metadata": {},
     "output_type": "execute_result"
    }
   ],
   "source": [
    "# Geometry\n",
    "rf = 1.27/2 - 0.0125 # cm\n",
    "rg = 1.27/2  # cm\n",
    "rc = 1.59/2  # cm\n",
    "print(rc)\n",
    "rm = 1.885 - rc  # cm\n",
    "rg2 = rm - 0.01;\n",
    "rc2 = np.sqrt(rc**2 + rm**2)\n",
    "rc2"
   ]
  },
  {
   "cell_type": "code",
   "execution_count": 3,
   "metadata": {},
   "outputs": [
    {
     "name": "stdout",
     "output_type": "stream",
     "text": [
      "v:  1794.3269863206274 cm/s\n",
      "Re:  40233.287886822734\n",
      "Pr:  0.6057854666666667\n",
      "Nu:  90.84976240779365\n",
      "h:  1714.1464605244084\n",
      "kgc:  0.0017220579431317952\n"
     ]
    }
   ],
   "source": [
    "# coolant flow and film thermal conductivity\n",
    "\n",
    "rho = 4.94e-6  # kg/cm3\n",
    "cp = 5.188e3  # J/kg/K\n",
    "mlc = 0.0176  # kg/s\n",
    "v = mlc/rho/np.pi/rc**2\n",
    "print('v: ', v, 'cm/s')\n",
    "\n",
    "mu = 35.03e-6  # Pa.s 7 MPa 400 C\n",
    "rho *= 1e6  # kg/m3\n",
    "v /= 100  # m/s\n",
    "D = 2 * rc / 100  # m\n",
    "Re = rho * v * D / mu\n",
    "print('Re: ', Re)\n",
    "\n",
    "kc = 0.3  # W/m/K\n",
    "Pr = mu * cp/kc\n",
    "print('Pr: ', Pr)\n",
    "\n",
    "Nu = 0.023*(Re**0.8)*(Pr**0.4)\n",
    "print('Nu: ', Nu)\n",
    "h = Nu/D * kc  # W/m^2/K\n",
    "print('h: ', h)\n",
    "\n",
    "h /= 1e4  # W/cm^2/K\n",
    "kgc = h * rm * np.log(rm/rg2)\n",
    "print('kgc: ', kgc)  # W/cm/C"
   ]
  },
  {
   "cell_type": "code",
   "execution_count": 5,
   "metadata": {},
   "outputs": [
    {
     "name": "stdout",
     "output_type": "stream",
     "text": [
      "54.97787143782138\n",
      "33788.570307049704\n"
     ]
    },
    {
     "data": {
      "text/plain": [
       "770.0466281149521"
      ]
     },
     "execution_count": 5,
     "metadata": {},
     "output_type": "execute_result"
    }
   ],
   "source": [
    "# heat generated: q * L = q0 * 2/pi * L\n",
    "q = 35  # W/cm3\n",
    "q0 = q * np.pi/2\n",
    "print(q0)\n",
    "\n",
    "# Coolant analytical value:\n",
    "rho = 4.94e-6  # kg/cm3\n",
    "cp = 5.188e3  # J/kg/K\n",
    "mlc = 0.0176  # kg/s\n",
    "rc = 1.59/2  # cm\n",
    "v = 1794.33\n",
    "\n",
    "Ti = 400\n",
    "L = 793\n",
    "rf = 1.27/2 - 0.0125  # cm\n",
    "\n",
    "qf = q0 * 2/np.pi * np.pi * rf**2 * L\n",
    "print(qf)\n",
    "To = Ti + 1/rho/cp/v * qf /np.pi/rc**2\n",
    "To"
   ]
  }
 ],
 "metadata": {
  "kernelspec": {
   "display_name": "Python 3",
   "language": "python",
   "name": "python3"
  },
  "language_info": {
   "codemirror_mode": {
    "name": "ipython",
    "version": 3
   },
   "file_extension": ".py",
   "mimetype": "text/x-python",
   "name": "python",
   "nbconvert_exporter": "python",
   "pygments_lexer": "ipython3",
   "version": "3.8.3"
  }
 },
 "nbformat": 4,
 "nbformat_minor": 4
}
