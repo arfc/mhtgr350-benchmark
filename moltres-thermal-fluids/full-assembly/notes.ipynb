{
 "cells": [
  {
   "cell_type": "code",
   "execution_count": 2,
   "metadata": {},
   "outputs": [],
   "source": [
    "import numpy as np"
   ]
  },
  {
   "cell_type": "markdown",
   "metadata": {},
   "source": [
    "# full fuel assembly\n",
    "\n",
    "same data as johnson et al. 2009"
   ]
  },
  {
   "cell_type": "code",
   "execution_count": 3,
   "metadata": {},
   "outputs": [
    {
     "data": {
      "text/plain": [
       "2239.6793976058498"
      ]
     },
     "execution_count": 3,
     "metadata": {},
     "output_type": "execute_result"
    }
   ],
   "source": [
    "m = 0.2 * 12 # kg/s\n",
    "rho = 4.369e-6 # kg/cm3\n",
    "A = 120*np.pi*0.794**2+6*np.pi*0.635**2\n",
    "v = m/rho/A\n",
    "v"
   ]
  },
  {
   "cell_type": "code",
   "execution_count": 5,
   "metadata": {},
   "outputs": [
    {
     "name": "stdout",
     "output_type": "stream",
     "text": [
      "Re:  40639.64820692541\n",
      "Pr:  0.6566314730221781\n",
      "Nu:  94.58373633827678\n",
      "h:  1799.354329206134\n",
      "kgap:  0.0017881176309407574\n"
     ]
    }
   ],
   "source": [
    "rho = 4.369  # kg/m3\n",
    "v = 22.397  # m/s\n",
    "D = 1.588/100  # m\n",
    "mu = 38.236e-6  # Pa.s\n",
    "cp = 5.188e3 # J/kg/K\n",
    "k = 0.3021  # W/m/K\n",
    "\n",
    "Re = rho*v*D/mu\n",
    "print('Re: ', Re)\n",
    "Pr = mu*cp/k\n",
    "print('Pr: ', Pr)\n",
    "Nu = 0.023*(Re**0.8)*(Pr**0.4)\n",
    "print('Nu: ', Nu)\n",
    "h = Nu/D * k  # W/m^2/K\n",
    "print('h: ', h)\n",
    "h /= 1e4 # W/cm^2/K\n",
    "R = D/2 * 100 # cm\n",
    "dx = 0.01\n",
    "kg = h * R * np.log(1 + dx/R)\n",
    "print('kgap: ', kg)"
   ]
  },
  {
   "cell_type": "code",
   "execution_count": null,
   "metadata": {},
   "outputs": [],
   "source": []
  }
 ],
 "metadata": {
  "kernelspec": {
   "display_name": "Python 3",
   "language": "python",
   "name": "python3"
  },
  "language_info": {
   "codemirror_mode": {
    "name": "ipython",
    "version": 3
   },
   "file_extension": ".py",
   "mimetype": "text/x-python",
   "name": "python",
   "nbconvert_exporter": "python",
   "pygments_lexer": "ipython3",
   "version": "3.8.3"
  }
 },
 "nbformat": 4,
 "nbformat_minor": 4
}
