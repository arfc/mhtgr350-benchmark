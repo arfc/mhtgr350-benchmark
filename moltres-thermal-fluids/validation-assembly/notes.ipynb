{
 "cells": [
  {
   "cell_type": "code",
   "execution_count": 3,
   "metadata": {},
   "outputs": [],
   "source": [
    "import numpy as np\n",
    "import matplotlib.pyplot as plt\n",
    "import pandas as pd"
   ]
  },
  {
   "cell_type": "markdown",
   "metadata": {},
   "source": [
    "# Sato et al. 2010 [1]"
   ]
  },
  {
   "cell_type": "code",
   "execution_count": 6,
   "metadata": {},
   "outputs": [
    {
     "data": {
      "image/png": "[encoded data removed]",
      "text/plain": [
       "<Figure size 432x288 with 1 Axes>"
      ]
     },
     "metadata": {
      "needs_background": "light"
     },
     "output_type": "display_data"
    }
   ],
   "source": [
    "# Material properties\n",
    "# He 70 bar [4]\n",
    "file = pd.read_csv('heproperties')\n",
    "temp = np.array(file['Temperature (K)'].tolist())\n",
    "rho_c = file['Density (kg/m3)'].tolist()\n",
    "k_c = file['Therm. Cond. (W/m*K)'].tolist()\n",
    "\n",
    "# Graphite H-451: Table 3-2 [2]\n",
    "def k_m(T):  # W/m/K\n",
    "    if T < 816:  # K\n",
    "        ret = 28.6\n",
    "    elif T < 1644.4:  # K\n",
    "        A1 = 1.24e2\n",
    "        A2 = -3.32e-1\n",
    "        A3 = 4.09e-4\n",
    "        A4 = -2.11e-7\n",
    "        A5 = 4.02e-11\n",
    "        ret = A1 + A2*T + A3*T**2 + A4*T**3 + A5*T**4\n",
    "    else:\n",
    "        ret = 41.5\n",
    "    return ret\n",
    "\n",
    "temp_m = np.linspace(600, 2000, 6)  # K\n",
    "km = np.array([k_m(T) for T in temp_m])\n",
    "\n",
    "# Fuel compact: Table 3-3 [2]\n",
    "def k_f(T):  # W/m/K\n",
    "    A1 = 3.94\n",
    "    A2 = 3.59e-3\n",
    "    A3 = -1.98e-9\n",
    "    A4 = 3.19e-12\n",
    "    A5 = -9.77e-16\n",
    "    return A1 + A2*T + A3*T**2 + A4*T**3 + A5*T**4\n",
    "\n",
    "temp_f = np.linspace(600, 2200, 4)  # K\n",
    "kf = np.array([k_f(T) for T in temp_f])\n",
    "\n",
    "# All the material thermal conductivities\n",
    "temp -= 273\n",
    "temp_m -= 273\n",
    "temp_f -= 273\n",
    "plt.plot(temp_f, kf/100, label='Fuel compact')\n",
    "plt.plot(temp, k_c, label=r'10$^2$ helium gap')\n",
    "plt.plot(temp_m, km/100, label='Moderator')\n",
    "plt.legend(loc='best')\n",
    "plt.xlim([350, 1700])\n",
    "plt.ylim(top=0.48)\n",
    "plt.ylabel('Thermal conductivity [W/cm/K]')\n",
    "plt.xlabel(r'Temperature [$^{\\circ}$C]')\n",
    "plt.savefig(\"val-assem-matprop\", dpi=300, bbox_inches=\"tight\")"
   ]
  },
  {
   "cell_type": "code",
   "execution_count": 18,
   "metadata": {},
   "outputs": [
    {
     "name": "stdout",
     "output_type": "stream",
     "text": [
      "[ 327  527  727  927 1127]\n",
      "[0.00196382 0.00204042 0.00210192 0.00215352 0.00219818]\n",
      "0.0020915726255304307\n"
     ]
    }
   ],
   "source": [
    "# film properties\n",
    "file = pd.read_csv('heproperties')\n",
    "temp = file['Temperature (K)'].tolist()\n",
    "rho_c = np.array(file['Density (kg/m3)'].tolist())\n",
    "k_c = np.array(file['Therm. Cond. (W/m*K)'].tolist())\n",
    "m_c = np.array(file['Viscosity (Pa*s)'].tolist())\n",
    "cp_c = np.array(file['Cp (J/g*K)'].tolist())*1e3\n",
    "\n",
    "rho = 4.36992  # kg/m3\n",
    "v = 26.20  # m/s\n",
    "D = 1.588/100  # m\n",
    "Re = rho*v*D/m_c\n",
    "# print('Re: ', Re)\n",
    "Pr = m_c*cp_c/k_c\n",
    "# print('Pr: ', Pr)\n",
    "Nu = 0.023*(Re**0.8)*(Pr**0.4)\n",
    "# print('Nu: ', Nu)\n",
    "h = Nu/D * k_c  # W/m^2/K\n",
    "# print('h: ', h)\n",
    "h /= 1e4 # W/cm^2/K\n",
    "R = D/2 * 100 # cm\n",
    "dx = 0.01\n",
    "kg = h * R * np.log(1 + dx/R)\n",
    "# print('kgap: ', kg)\n",
    "\n",
    "temp1 = np.array([600, 800, 1000, 1200, 1400])\n",
    "kgc = np.array([np.interp(t, temp, kg) for t in temp1])\n",
    "print(temp1-273)\n",
    "print(kgc)\n",
    "print(np.average(kgc))"
   ]
  },
  {
   "cell_type": "code",
   "execution_count": 20,
   "metadata": {},
   "outputs": [
    {
     "name": "stdout",
     "output_type": "stream",
     "text": [
      "0.0018403907633498008\n",
      "0.0020911329295914423\n",
      "0.0020962969053153245\n",
      "0.002097771742676287\n",
      "0.00210514204730296\n",
      "0.002090394958638404\n",
      "0.0020933464519724567\n",
      "0.0020955593893586056\n",
      "0.0020955593893586056\n",
      "0.002097771742676287\n",
      "0.0020985090641489177\n",
      "0.002108824780474244\n",
      "0.002105878722709771\n"
     ]
    }
   ],
   "source": [
    "# Still film properties\n",
    "# Will see if the k coolant gap changes a lot\n",
    "# when imposing diff velocities to the diff channels\n",
    "\n",
    "rlc = 1.588/2  # cm\n",
    "rsc = 1.27/2  # cm\n",
    "rho = 4.36992  # [kg/m3] 70 bar, 490 C\n",
    "rho /= 1e6  # [kg/cm3]\n",
    "\n",
    "# film properties\n",
    "file = pd.read_csv('heproperties')\n",
    "temp = file['Temperature (K)'].tolist()\n",
    "rho_c = np.array(file['Density (kg/m3)'].tolist())\n",
    "k_c = np.array(file['Therm. Cond. (W/m*K)'].tolist())\n",
    "m_c = np.array(file['Viscosity (Pa*s)'].tolist())\n",
    "cp_c = np.array(file['Cp (J/g*K)'].tolist())*1e3\n",
    "\n",
    "m = np.array([12.36, 22.67, 22.74, 22.76, 22.86, 22.66, 22.70, 22.73, 22.73, 22.76, 22.77, 22.91, 22.87])\n",
    "m /= 1e3\n",
    "rl = rlc * np.ones(len(m))\n",
    "rl[0] = rsc\n",
    "vl = m/np.pi/rl**2/rho\n",
    "# print(vl)\n",
    "\n",
    "for v in vl:\n",
    "    rho = 4.36992  # kg/m3\n",
    "    v = v/100\n",
    "    D = 1.588/100  # m\n",
    "    Re = rho*v*D/m_c\n",
    "    # print('Re: ', Re)\n",
    "    Pr = m_c*cp_c/k_c\n",
    "    # print('Pr: ', Pr)\n",
    "    Nu = 0.023*(Re**0.8)*(Pr**0.4)\n",
    "    # print('Nu: ', Nu)\n",
    "    h = Nu/D * k_c  # W/m^2/K\n",
    "    # print('h: ', h)\n",
    "    h /= 1e4 # W/cm^2/K\n",
    "    R = D/2 * 100 # cm\n",
    "    dx = 0.01\n",
    "    kg = h * R * np.log(1 + dx/R)\n",
    "    # print('kgap: ', kg)\n",
    "\n",
    "    temp1 = np.array([600, 800, 1000, 1200, 1400])\n",
    "    kgc = np.array([np.interp(t, temp, kg) for t in temp1])\n",
    "    print(np.average(kgc))\n",
    "\n",
    "# It barely changes, so the conclusion here is that\n",
    "# The coolant film for all the channels can be defined as\n",
    "# one material\n",
    "# mmm- it affects a bit more the smaller channel... well, ideally, the mesh should differentiate the diff channel films"
   ]
  },
  {
   "cell_type": "code",
   "execution_count": 22,
   "metadata": {},
   "outputs": [
    {
     "name": "stdout",
     "output_type": "stream",
     "text": [
      "[2232.7888825  2619.31153892 2627.39939986 2629.71021728 2641.26430435\n",
      " 2618.15613021 2622.77776504 2626.24399116 2626.24399116 2629.71021728\n",
      " 2630.86562599 2647.04134789 2642.41971306]\n",
      "Total mass flow:  0.19967999999999997\n",
      "Real mass flow for each channel:  [ 6.18  11.335 11.37  11.38  11.43  11.33  22.7   22.73  22.73  11.38\n",
      " 22.77  22.91  11.435]\n"
     ]
    }
   ],
   "source": [
    "# flow distribution - no gap\n",
    "# uses data from Fig 9 [1]\n",
    "rlc = 1.588/2  # cm\n",
    "rsc = 1.27/2   # cm\n",
    "rho = 4.36992  # [kg/m3] 70 bar, 490 C\n",
    "rho /= 1e6     # [kg/cm3]\n",
    "\n",
    "m = np.array([12.36, 22.67, 22.74, 22.76, 22.86, 22.66, 22.70, 22.73, 22.73, 22.76, 22.77, 22.91, 22.87])\n",
    "m /= 1e3\n",
    "rl = rlc * np.ones(len(m))\n",
    "rl[0] = rsc\n",
    "v = m/np.pi/rl**2/rho\n",
    "print(v)\n",
    "Mt = m[0]/2 + m[1]/2 + m[2]/2 + m[3]/2 + m[4]/2 + m[5]/2 + m[9]/2 + m[12]/2 + m[6] + m[7] + m[8] + m[10] + m[11]\n",
    "print('Total mass flow: ', Mt)  # sanity check\n",
    "\n",
    "m2 = [m[0]/2, m[1]/2, m[2]/2, m[3]/2, m[4]/2, m[5]/2, m[6], m[7], m[8], m[9]/2, m[10], m[11], m[12]/2]\n",
    "m2 = np.array(m2)*1000\n",
    "print('Real mass flow for each channel: ', m2)"
   ]
  },
  {
   "cell_type": "code",
   "execution_count": 23,
   "metadata": {},
   "outputs": [
    {
     "name": "stdout",
     "output_type": "stream",
     "text": [
      "471012.67008027283\n",
      "[0.63338435 0.99028655 0.99028655 0.99028655 0.99028655 0.99028655\n",
      " 1.98057311 1.98057311 1.98057311 0.99028655 1.98057311 1.98057311\n",
      " 0.99028655]\n"
     ]
    },
    {
     "data": {
      "text/plain": [
       "471100.49330171006"
      ]
     },
     "execution_count": 23,
     "metadata": {},
     "output_type": "execute_result"
    }
   ],
   "source": [
    "# analytical solution for the coolant temperature - sanity check\n",
    "# uses data from Fig 9 [1]\n",
    "\n",
    "Ti = 490  # [C]\n",
    "rf = 0.6225\n",
    "rlc = 1.588/2  # cm\n",
    "rsc = 1.27/2  # cm\n",
    "L = 793\n",
    "rho = 4.36992  # [kg/m3] 70 bar, 490 C\n",
    "rho /= 1e6  # [kg/cm3]\n",
    "cp = 5.188e3  # J/kg/K\n",
    "\n",
    "q = 27.88  # W/cm3\n",
    "Q = q * L * np.pi * rf**2 * 17.5\n",
    "print(Q)\n",
    "\n",
    "ri = rlc * np.ones(len(m))\n",
    "ri[0] = rsc\n",
    "Ai = np.pi * ri**2\n",
    "Ai[0] *= 0.5 \n",
    "Ai[1] *= 0.5\n",
    "Ai[2] *= 0.5\n",
    "Ai[3] *= 0.5\n",
    "Ai[4] *= 0.5\n",
    "Ai[5] *= 0.5\n",
    "Ai[9] *= 0.5\n",
    "Ai[12] *= 0.5\n",
    "print(Ai)\n",
    "\n",
    "vi = [2232, 2619, 2627, 2630, 2641, 2618, 2622, 2626, 2626, 2629, 2630, 2647, 2642]\n",
    "dTi = [983.5, 956.3, 948.6, 945.3, 934.6, 958.7, 950.4, 946.3, 945.3, 946, 941.1, 927.1, 931.6]\n",
    "vi = np.array(vi)\n",
    "dTi = np.array(dTi)\n",
    "dTi -= 490 \n",
    "rho*cp*sum(vi*dTi*Ai)"
   ]
  },
  {
   "cell_type": "code",
   "execution_count": 3,
   "metadata": {},
   "outputs": [
    {
     "name": "stdout",
     "output_type": "stream",
     "text": [
      "[1.2667687  1.98057311 1.98057311 1.98057311 1.98057311 1.98057311\n",
      " 1.98057311 1.98057311 1.98057311 1.98057311 1.98057311 1.98057311\n",
      " 1.98057311 3.13068183]\n",
      "[2124.40107267 2495.68280726 2507.23689433 2521.10179882 2560.38569486\n",
      " 2494.52739855 2493.37198985 2503.77066821 2522.25720752 2514.16934657\n",
      " 2519.94639011 2565.00732968 2565.00732968 1210.45294863]\n",
      "0.199665\n",
      "Real mass flow for each channel:  [ 5.88  10.8   10.85  10.91  11.08  10.795 21.58  21.67  21.83  10.88\n",
      " 21.81  22.2   11.1    8.28 ]\n"
     ]
    }
   ],
   "source": [
    "# flow distribution - 1.5 mm gap\n",
    "# uses data from Fig 9 [1]\n",
    "rlc = 1.588/2  # cm\n",
    "rsc = 1.27/2  # cm\n",
    "rho = 4.36992  # [kg/m3] 70 bar, 490 C\n",
    "rho /= 1e6  # [kg/cm3]\n",
    "bg = 0.3  # cm - total width between channels\n",
    "f = 18 * np.tan(np.pi/6)\n",
    "\n",
    "mi = np.array([11.76, 21.60, 21.70, 21.82, 22.16, 21.59, 21.58, 21.67, 21.83, 21.76, 21.81, 22.20, 22.20, 16.56])\n",
    "mi /= 1e3\n",
    "ri = rlc * np.ones(len(mi))\n",
    "ri[0] = rsc\n",
    "Ai = np.pi * ri**2\n",
    "Ai[-1] = f * bg + 0.25 * bg * bg * np.tan(np.pi/6) # Area of the total width between channels\n",
    "print(Ai)\n",
    "vi = mi/rho/Ai\n",
    "print(vi)\n",
    "Mt = mi[0]/2 + mi[1]/2 + mi[2]/2 + mi[3]/2 + mi[4]/2 + mi[5]/2 + mi[9]/2 + mi[12]/2 + mi[6] + mi[7] + mi[8] + mi[10] + mi[11] + mi[13]/2\n",
    "print(Mt)\n",
    "\n",
    "m = mi\n",
    "m2 = [m[0]/2, m[1]/2, m[2]/2, m[3]/2, m[4]/2, m[5]/2, m[6], m[7], m[8], m[9]/2, m[10], m[11], m[12]/2, m[13]/2]\n",
    "m2 = np.array(m2)*1000\n",
    "print('Real mass flow for each channel: ', m2)"
   ]
  },
  {
   "cell_type": "code",
   "execution_count": 7,
   "metadata": {},
   "outputs": [
    {
     "name": "stdout",
     "output_type": "stream",
     "text": [
      "[ 327  527  727  927 1127]\n",
      "[0.00129725 0.00134785 0.00138847 0.00142257 0.00145206]\n",
      "0.0013816410446038433\n"
     ]
    }
   ],
   "source": [
    "# gap film properties\n",
    "file = pd.read_csv('heproperties')\n",
    "temp = file['Temperature (K)'].tolist()\n",
    "rho_c = np.array(file['Density (kg/m3)'].tolist())\n",
    "k_c = np.array(file['Therm. Cond. (W/m*K)'].tolist())\n",
    "m_c = np.array(file['Viscosity (Pa*s)'].tolist())\n",
    "cp_c = np.array(file['Cp (J/g*K)'].tolist())*1e3\n",
    "\n",
    "rho = 4.36992  # kg/m3\n",
    "v = 12.10  # m/s\n",
    "bg = 0.3\n",
    "f = 18 * np.tan(np.pi/6)\n",
    "\n",
    "Ah = f * bg + 0.25 * bg * bg * np.tan(np.pi/6)\n",
    "Ph = 2 * f + bg/np.cos(np.pi/6)\n",
    "\n",
    "Dh = 4 * Ah/Ph\n",
    "Dh /= 100\n",
    "Re = rho*v*Dh/m_c\n",
    "# print('Re: ', Re)\n",
    "Pr = m_c*cp_c/k_c\n",
    "# print('Pr: ', Pr)\n",
    "Nu = 0.023*(Re**0.8)*(Pr**0.4)\n",
    "# print('Nu: ', Nu)\n",
    "h = Nu/Dh * k_c  # W/m^2/K\n",
    "# print('h: ', h)\n",
    "h /= 1e4 # W/cm^2/K\n",
    "dx = 0.01\n",
    "kg = h * dx\n",
    "# print('kgap: ', kg)\n",
    "\n",
    "temp1 = np.array([600, 800, 1000, 1200, 1400])\n",
    "kgc = np.array([np.interp(t, temp, kg) for t in temp1])\n",
    "print(temp1-273)\n",
    "print(kgc)\n",
    "print(np.average(kgc))"
   ]
  },
  {
   "cell_type": "markdown",
   "metadata": {},
   "source": [
    "## References:\n",
    "\n",
    "[1]: Sato et al. Computational fluid dynamic analysis of core bypass flow phenomena in a prismatic VHTR. 2010\n",
    "\n",
    "[2]: Johnson et al. CFD Analysis of Core Bypass Phenomena. 2009\n",
    "\n",
    "[3]: MacDonald et al. NGNP Preliminary Point Design – Results of the Initial Neutronics and Thermal-Hydraulic Assessments. 2003\n",
    "\n",
    "[4]: NIST\n",
    "\n",
    "[5]: General Atomic. SAFETY ANALYSIS REPORT USE OF H-451 GRAPHITE IN FORT ST. VRAIN FUEL ELEMENTS. 1977\n"
   ]
  }
 ],
 "metadata": {
  "kernelspec": {
   "display_name": "Python 3",
   "language": "python",
   "name": "python3"
  },
  "language_info": {
   "codemirror_mode": {
    "name": "ipython",
    "version": 3
   },
   "file_extension": ".py",
   "mimetype": "text/x-python",
   "name": "python",
   "nbconvert_exporter": "python",
   "pygments_lexer": "ipython3",
   "version": "3.8.3"
  }
 },
 "nbformat": 4,
 "nbformat_minor": 4
}
