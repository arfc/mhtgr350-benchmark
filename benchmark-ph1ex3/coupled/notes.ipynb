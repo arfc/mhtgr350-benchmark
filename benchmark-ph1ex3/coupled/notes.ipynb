{
 "cells": [
  {
   "cell_type": "code",
   "execution_count": 2,
   "metadata": {},
   "outputs": [],
   "source": [
    "import numpy as np\n",
    "import pandas as pd\n",
    "\n",
    "def calc_Rs(R1, R2, A):\n",
    "    midR = (R1+R2)/2\n",
    "    Ro = (A/np.pi+4*midR**2)/4/midR\n",
    "    Ri = 2*midR - Ro   \n",
    "    return Ri, midR, Ro"
   ]
  },
  {
   "cell_type": "markdown",
   "metadata": {},
   "source": [
    "# Model 1 \n",
    "\n",
    "## Geometric speficication"
   ]
  },
  {
   "cell_type": "code",
   "execution_count": 3,
   "metadata": {},
   "outputs": [
    {
     "name": "stdout",
     "output_type": "stream",
     "text": [
      "IRR:  82.39\n",
      "FR3:  174.26\n",
      "3.2562555182294894\n",
      "Ri:\n",
      "28\n",
      "0.6923035208446201\n",
      "[ 82.389  85.324  88.605  91.886  95.168  98.449 101.73  105.011 108.292\n",
      " 111.573 114.855 118.136 121.417 124.698 127.979 131.26  134.542 137.823\n",
      " 141.104 144.385 147.666 150.948 154.229 157.51  160.791 164.072 167.353\n",
      " 170.635 173.57 ]\n",
      "[ 83.081  86.016  89.298  92.579  95.86   99.141 102.422 105.703 108.985\n",
      " 112.266 115.547 118.828 122.109 125.39  128.672 131.953 135.234 138.515\n",
      " 141.796 145.077 148.359 151.64  154.921 158.202 161.483 164.764 168.046\n",
      " 171.327 174.262]\n"
     ]
    }
   ],
   "source": [
    "# Rings radius\n",
    "P = 18  # cm\n",
    "F = P/np.cos(np.pi/6)\n",
    "AF = F/2 * P * 6\n",
    "\n",
    "AIRR = 19*AF\n",
    "AFR1 = 18*AF\n",
    "AFR2 = 24*AF\n",
    "AFR3 = 24*AF\n",
    "\n",
    "R = []\n",
    "\n",
    "Ai = AIRR\n",
    "IRR = np.sqrt(1/np.pi*Ai)\n",
    "print('IRR: ', np.round(IRR, 2))\n",
    "\n",
    "Ai += AFR1\n",
    "Ai += AFR2\n",
    "Ai += AFR3\n",
    "\n",
    "FR3 = np.sqrt(1/np.pi*Ai)\n",
    "print('FR3: ', np.round(FR3, 2))\n",
    "\n",
    "Ac = 120*np.pi*0.794**2 + 6*np.pi*0.635**2\n",
    "AcR1 = 18*Ac\n",
    "AcR2 = 24*Ac\n",
    "AcR3 = 24*Ac\n",
    "Act = AcR1 + AcR2 + AcR3\n",
    "\n",
    "F = np.cos(np.pi/6)*1.88*2 # min distance between cool channels\n",
    "print(F)\n",
    "\n",
    "print('Ri:')\n",
    "n = int(np.floor((FR3-IRR)/F))\n",
    "print(n)\n",
    "p = (FR3-IRR)/n\n",
    "\n",
    "Rm = np.linspace(IRR, FR3, n+1)\n",
    "t = Act/np.pi/2/sum(Rm)\n",
    "print(t)\n",
    "\n",
    "Ri = Rm-t/2\n",
    "Ri[0] = IRR\n",
    "Ri[-1] = FR3-t\n",
    "Ro = Ri+t\n",
    "print(np.round(Ri, 3))\n",
    "print(np.round(Ro, 3))"
   ]
  }
 ],
 "metadata": {
  "kernelspec": {
   "display_name": "Python 3",
   "language": "python",
   "name": "python3"
  },
  "language_info": {
   "codemirror_mode": {
    "name": "ipython",
    "version": 3
   },
   "file_extension": ".py",
   "mimetype": "text/x-python",
   "name": "python",
   "nbconvert_exporter": "python",
   "pygments_lexer": "ipython3",
   "version": "3.8.3"
  }
 },
 "nbformat": 4,
 "nbformat_minor": 4
}
