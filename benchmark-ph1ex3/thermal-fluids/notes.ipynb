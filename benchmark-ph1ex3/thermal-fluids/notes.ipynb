{
 "cells": [
  {
   "cell_type": "code",
   "execution_count": 1,
   "metadata": {},
   "outputs": [],
   "source": [
    "import numpy as np\n",
    "import pandas as pd\n",
    "\n",
    "def calc_Rs(R1, R2, A):\n",
    "    midR = (R1+R2)/2\n",
    "    Ro = (A/np.pi+4*midR**2)/4/midR\n",
    "    Ri = 2*midR - Ro   \n",
    "    return Ri, midR, Ro"
   ]
  },
  {
   "cell_type": "markdown",
   "metadata": {},
   "source": [
    "# SimpleD"
   ]
  },
  {
   "cell_type": "code",
   "execution_count": 8,
   "metadata": {},
   "outputs": [
    {
     "name": "stdout",
     "output_type": "stream",
     "text": [
      "IRR1:  18.9\n",
      "IRR2:  50.01\n",
      "IRR3:  82.39\n",
      "FR1:  114.97\n",
      "FR2:  147.62\n",
      "FR3:  174.26\n",
      "ORR1:  207.91\n",
      "ORR2:  241.32\n"
     ]
    }
   ],
   "source": [
    "# Rings radius\n",
    "P = 18  # cm\n",
    "F = P/np.cos(np.pi/6)\n",
    "AF = F/2 * P * 6\n",
    "\n",
    "AIRR1 = AF\n",
    "AIRR2 = 6*AF\n",
    "AIRR3 = 12*AF\n",
    "AFR1 = 18*AF\n",
    "AFR2 = 24*AF\n",
    "AFR3 = 24*AF\n",
    "AORR1 = 36*AF\n",
    "AORR2 = 42*AF\n",
    "\n",
    "R = []\n",
    "\n",
    "Ai = AIRR1\n",
    "IRR1 = np.sqrt(1/np.pi*Ai)\n",
    "R.append(IRR1)\n",
    "print('IRR1: ', np.round(IRR1, 2))\n",
    "\n",
    "Ai += AIRR2\n",
    "IRR2 = np.sqrt(1/np.pi*Ai)\n",
    "R.append(IRR2)\n",
    "print('IRR2: ', np.round(IRR2, 2))\n",
    "\n",
    "Ai += AIRR3\n",
    "IRR3 = np.sqrt(1/np.pi*Ai)\n",
    "R.append(IRR3)\n",
    "print('IRR3: ', np.round(IRR3, 2))\n",
    "\n",
    "Ai += AFR1\n",
    "FR1 = np.sqrt(1/np.pi*Ai)\n",
    "R.append(FR1)\n",
    "print('FR1: ', np.round(FR1, 2))\n",
    "\n",
    "Ai += AFR2\n",
    "FR2 = np.sqrt(1/np.pi*Ai)\n",
    "R.append(FR2)\n",
    "print('FR2: ', np.round(FR2, 2))\n",
    "\n",
    "Ai += AFR3\n",
    "FR3 = np.sqrt(1/np.pi*Ai)\n",
    "R.append(FR3)\n",
    "print('FR3: ', np.round(FR3, 2))\n",
    "\n",
    "Ai += AORR1\n",
    "ORR1 = np.sqrt(1/np.pi*Ai)\n",
    "R.append(ORR1)\n",
    "print('ORR1: ', np.round(ORR1, 2))\n",
    "\n",
    "Ai += AORR2\n",
    "ORR2 = np.sqrt(1/np.pi*Ai)\n",
    "R.append(ORR2)\n",
    "print('ORR2: ', np.round(ORR2, 2))\n",
    "\n",
    "ORR3 = 297.3\n",
    "R.append(ORR3)\n",
    "\n",
    "R = np.array(R)"
   ]
  },
  {
   "cell_type": "code",
   "execution_count": 18,
   "metadata": {},
   "outputs": [
    {
     "name": "stdout",
     "output_type": "stream",
     "text": [
      "1.9303119325231488\n",
      "[ 17.93619648  49.04312204  81.42392924 114.00728246 146.65912584\n",
      " 173.2967032  206.94972092 240.35115772 296.33484403]\n",
      "[ 19.86650841  50.97343398  83.35424117 115.93759439 148.58943777\n",
      " 175.22701513 208.88003286 242.28146965 298.26515597]\n"
     ]
    }
   ],
   "source": [
    "# Coolant channel radii - option 1\n",
    "Ac = 120*np.pi*0.794**2 + 6*np.pi*0.635**2\n",
    "AcR1 = 18*Ac\n",
    "AcR2 = 24*Ac\n",
    "AcR3 = 24*Ac\n",
    "Actotal = AcR1 + AcR2 + AcR3\n",
    "\n",
    "tj = Actotal / 2/np.pi/sum(R)\n",
    "print(tj)\n",
    "Rji = R - tj/2\n",
    "print(Rji)\n",
    "Rjo = R + tj/2\n",
    "print(Rjo)"
   ]
  },
  {
   "cell_type": "code",
   "execution_count": 19,
   "metadata": {},
   "outputs": [
    {
     "name": "stdout",
     "output_type": "stream",
     "text": [
      "[ 16.95831145  48.06523701  80.4460442  113.02939742 145.68124081\n",
      " 172.31881817 205.97183589 239.37327269 295.356959  ]\n"
     ]
    }
   ],
   "source": [
    "# Coolant channel radii - option 2\n",
    "Ac = 120*np.pi*0.794**2 + 6*np.pi*0.635**2\n",
    "AcR1 = 18*Ac\n",
    "AcR2 = 24*Ac\n",
    "AcR3 = 24*Ac\n",
    "Actotal = AcR1 + AcR2 + AcR3\n",
    "\n",
    "RT = sum(R)\n",
    "\n",
    "t = (2*RT - np.sqrt(4*RT**2 - 36*Actotal/np.pi))/18\n",
    "# print(t)\n",
    "Rji = R - t\n",
    "print(Rji)\n"
   ]
  },
  {
   "cell_type": "code",
   "execution_count": 21,
   "metadata": {},
   "outputs": [
    {
     "name": "stdout",
     "output_type": "stream",
     "text": [
      "Ring one power density:  [3.874      4.442      5.029      5.64383333 6.44416667 7.68516667\n",
      " 8.68933333 9.40183333 9.07566667 6.9985    ]\n",
      "Ring two power density:  [3.03225  3.558375 4.165875 4.666125 5.269125 6.34175  7.041    7.49475\n",
      " 7.0175   5.1685  ]\n",
      "Ring three power density:  [3.2925   3.906125 4.554625 5.1155   5.817    7.08525  7.92825  8.464125\n",
      " 7.896625 5.572875]\n"
     ]
    }
   ],
   "source": [
    "# power density averaged in the ring (divided into layers)\n",
    "file = pd.read_csv('power.csv')\n",
    "\n",
    "# W/cm3\n",
    "R1Fs = np.zeros(10)\n",
    "for i in range(1, 7):\n",
    "    fi = np.array(file['F'+str(i)].tolist())\n",
    "    R1Fs += fi/6/1e6\n",
    "\n",
    "R2Fs = np.zeros(10)\n",
    "for i in range(7, 15):\n",
    "    fi = np.array(file['F'+str(i)].tolist())\n",
    "    R2Fs += fi/8/1e6\n",
    "\n",
    "R3Fs = np.zeros(10)\n",
    "for i in range(15, 23):\n",
    "    fi = np.array(file['F'+str(i)].tolist())\n",
    "    R3Fs += fi/8/1e6\n",
    "\n",
    "QR1s = R1Fs*AFR1/(AFR1-np.pi*(FR1**2-R[3]**2))\n",
    "QR2s = R2Fs*AFR2/(AFR2-np.pi*(FR2**2-R[4]**2))\n",
    "QR3s = R3Fs*AFR3/(AFR3-np.pi*(FR3**2-R[5]**2))\n",
    "print('Ring one power density: ', QR1s)\n",
    "print('Ring two power density: ', QR2s)\n",
    "print('Ring three power density: ', QR3s)"
   ]
  },
  {
   "cell_type": "code",
   "execution_count": 22,
   "metadata": {},
   "outputs": [
    {
     "name": "stdout",
     "output_type": "stream",
     "text": [
      "Re:  [126794.81959681 126794.81959681 126794.81959681 126794.81959681\n",
      " 126794.81959681 126794.81959681 126794.81959681 126794.81959681\n",
      " 126794.81959681]\n",
      "Pr:  0.37637041951219513\n",
      "Nu:  [188.12877923 188.12877923 188.12877923 188.12877923 188.12877923\n",
      " 188.12877923 188.12877923 188.12877923 188.12877923]\n",
      "h:  [1984.84745186 1984.84745186 1984.84745186 1984.84745186 1984.84745186\n",
      " 1984.84745186 1984.84745186 1984.84745186 1984.84745186]\n",
      "ki:  [0.00198543 0.00198505 0.00198497 0.00198494 0.00198492 0.00198491\n",
      " 0.0019849  0.00198489 0.00198488]\n",
      "ko:  [0.00198537 0.00198505 0.00198497 0.00198493 0.00198491 0.0019849\n",
      " 0.0019849  0.00198489 0.00198488]\n"
     ]
    }
   ],
   "source": [
    "# simple - film\n",
    "rho = 5.7030  # [kg/m3] 6.4 MPa 259 C\n",
    "cp = 5.188  # [J/g/K] 6.4 MPa 259 C [2]\n",
    "cp *= 1e3  # [J/kg/K]\n",
    "mu = 2.9744e-5  # Pa.s 6.4 MPa 259 C\n",
    "v = 1701.71  # cm/s\n",
    "v /= 100  # m/s\n",
    "\n",
    "ri = Rji/100 # m\n",
    "ro = R/100\n",
    "Ah = np.pi*(ro**2-ri**2)\n",
    "Ph = 2*np.pi*(ri+ro)\n",
    "Dh = 4*Ah/Ph\n",
    "Re = rho * v * Dh / mu\n",
    "print('Re: ', Re)\n",
    "\n",
    "k = 0.41 # W/m/K\n",
    "Pr = mu * cp/k\n",
    "print('Pr: ', Pr)\n",
    "\n",
    "Nu = 0.023*(Re**0.8)*(Pr**0.4)\n",
    "print('Nu: ', Nu)\n",
    "h = Nu/Dh * k  # W/m^2/K\n",
    "print('h: ', h)\n",
    "\n",
    "h /= 1e4  # W/cm^2/K\n",
    "\n",
    "ri *= 100  # cm\n",
    "ro *= 100  # cm\n",
    "dr = 0.01  # cm\n",
    "\n",
    "kgci = h * (ri + dr) * np.log(1 + dr/ri)\n",
    "kgco = h * (ro + dr) * np.log(1 + dr/ro)\n",
    "print('ki: ', kgci)  # W/cm/C\n",
    "print('ko: ', kgco)  # W/cm/C"
   ]
  },
  {
   "cell_type": "markdown",
   "metadata": {},
   "source": [
    "# SimpleE"
   ]
  },
  {
   "cell_type": "code",
   "execution_count": 5,
   "metadata": {},
   "outputs": [
    {
     "name": "stdout",
     "output_type": "stream",
     "text": [
      "IRR:  82.39\n",
      "FR1:  114.97\n",
      "FR2:  147.62\n",
      "FR3:  174.26\n"
     ]
    }
   ],
   "source": [
    "# Rings radius\n",
    "P = 18  # cm\n",
    "F = P/np.cos(np.pi/6)\n",
    "AF = F/2 * P * 6\n",
    "\n",
    "AIRR = 19*AF\n",
    "AFR1 = 18*AF\n",
    "AFR2 = 24*AF\n",
    "AFR3 = 24*AF\n",
    "\n",
    "R = []\n",
    "\n",
    "Ai = AIRR\n",
    "IRR = np.sqrt(1/np.pi*Ai)\n",
    "R.append(IRR)\n",
    "print('IRR: ', np.round(IRR, 2))\n",
    "\n",
    "Ai += AFR1\n",
    "FR1 = np.sqrt(1/np.pi*Ai)\n",
    "R.append(FR1)\n",
    "print('FR1: ', np.round(FR1, 2))\n",
    "\n",
    "Ai += AFR2\n",
    "FR2 = np.sqrt(1/np.pi*Ai)\n",
    "R.append(FR2)\n",
    "print('FR2: ', np.round(FR2, 2))\n",
    "\n",
    "Ai += AFR3\n",
    "FR3 = np.sqrt(1/np.pi*Ai)\n",
    "R.append(FR3)\n",
    "print('FR3: ', np.round(FR3, 2))\n",
    "\n",
    "ORR3 = 297.3\n",
    "R.append(ORR3)\n",
    "\n",
    "R = np.array(R)"
   ]
  },
  {
   "cell_type": "code",
   "execution_count": 10,
   "metadata": {},
   "outputs": [
    {
     "name": "stdout",
     "output_type": "stream",
     "text": [
      "R1:\n",
      "[ 82.39  84.31  86.22  88.14  90.06  91.97  93.89  95.81  97.72  99.64\n",
      " 101.56 103.47 105.39 107.31 109.22 111.14 113.06]\n",
      "0.4220423255431155\n",
      "R2:\n",
      "[114.97 116.89 118.81 120.73 122.66 124.58 126.5  128.42 130.34 132.26\n",
      " 134.18 136.1  138.02 139.94 141.86 143.78 145.7 ]\n",
      "0.4221356006152532\n",
      "R3:\n",
      "[147.62 149.53 151.43 153.33 155.24 157.14 159.04 160.94 162.85 164.75\n",
      " 166.65 168.55 170.46 172.36]\n",
      "0.4177174096544474\n"
     ]
    }
   ],
   "source": [
    "Ac = 120*np.pi*0.794**2 + 6*np.pi*0.635**2\n",
    "AcR1 = 18*Ac\n",
    "AcR2 = 24*Ac\n",
    "AcR3 = 24*Ac\n",
    "\n",
    "print('R1:')\n",
    "n = int(np.floor((FR1-IRR)/1.88))\n",
    "p = (FR1-IRR)/n\n",
    "R1 = [IRR]\n",
    "for i in range(n-1):\n",
    "    R1.append(R1[-1]+p)\n",
    "print(np.round(R1, 2))\n",
    "R1 = np.array(R1)\n",
    "Rt = sum(R1)\n",
    "t = (-2*Rt + np.sqrt(4*Rt**2+4*n*AcR1/np.pi))/2/n\n",
    "print(t)\n",
    "R1o = R1 + t\n",
    "# print(np.round(Ro, 2))\n",
    "# print(sum(np.pi*(Ro**2-R**2)))\n",
    "\n",
    "print('R2:')\n",
    "n = int(np.floor((FR2-FR1)/1.88))\n",
    "# print(n)\n",
    "p = (FR2-FR1)/n\n",
    "# print(p)\n",
    "R2 = [FR1]\n",
    "for i in range(n-1):\n",
    "    R2.append(R2[-1]+p)\n",
    "print(np.round(R2, 2))\n",
    "R2 = np.array(R2)\n",
    "Rt = sum(R2)\n",
    "t = (-2*Rt + np.sqrt(4*Rt**2+4*n*AcR2/np.pi))/2/n\n",
    "print(t)\n",
    "R2o = R2 + t\n",
    "# print(np.round(Ro, 2))\n",
    "# print(sum(np.pi*(Ro**2-R**2)))\n",
    "\n",
    "print('R3:')\n",
    "n = int(np.floor((FR3-FR2)/1.88))\n",
    "# print(n)\n",
    "p = (FR3-FR2)/n\n",
    "# print(p)\n",
    "R3 = [FR2]\n",
    "for i in range(n-1):\n",
    "    R3.append(R3[-1]+p)\n",
    "print(np.round(R3, 2))\n",
    "R3 = np.array(R3)\n",
    "Rt = sum(R3)\n",
    "t = (-2*Rt + np.sqrt(4*Rt**2+4*n*AcR3/np.pi))/2/n\n",
    "print(t)\n",
    "R3o = R3 + t\n",
    "# print(np.round(Ro, 2))\n",
    "# print(sum(np.pi*(Ro**2-R**2)))\n"
   ]
  },
  {
   "cell_type": "code",
   "execution_count": 3,
   "metadata": {},
   "outputs": [
    {
     "name": "stdout",
     "output_type": "stream",
     "text": [
      "Ring one power density:  [ 4.9573133   5.68414705  6.43529391  7.22205732  8.24619338  9.83422275\n",
      " 11.11919146 12.03093274 11.61355785  8.95553876]\n",
      "Ring two power density:  [3.88017895 4.55342791 5.33080732 5.97094567 6.74256671 8.11513723\n",
      " 9.00992332 9.59055856 8.97985186 6.61380325]\n",
      "Ring three power density:  [ 4.21320445  4.99842164  5.82826616  6.5459825   7.44364777  9.06654726\n",
      " 10.14528115 10.83100657 10.10481264  7.13125642]\n"
     ]
    }
   ],
   "source": [
    "# power density averaged in the ring (divided into layers)\n",
    "P = 18  # cm\n",
    "F = P/np.cos(np.pi/6)\n",
    "AF = F/2 * P * 6\n",
    "AFR1 = 18*AF\n",
    "AFR2 = 24*AF\n",
    "AFR3 = 24*AF\n",
    "\n",
    "Ac = 120*np.pi*0.794**2 + 6*np.pi*0.635**2\n",
    "AcR1 = 18*Ac\n",
    "AcR2 = 24*Ac\n",
    "AcR3 = 24*Ac\n",
    "\n",
    "\n",
    "file = pd.read_csv('power.csv')\n",
    "\n",
    "# W/cm3\n",
    "R1Fs = np.zeros(10)\n",
    "for i in range(1, 7):\n",
    "    fi = np.array(file['F'+str(i)].tolist())\n",
    "    R1Fs += fi/6/1e6\n",
    "\n",
    "R2Fs = np.zeros(10)\n",
    "for i in range(7, 15):\n",
    "    fi = np.array(file['F'+str(i)].tolist())\n",
    "    R2Fs += fi/8/1e6\n",
    "\n",
    "R3Fs = np.zeros(10)\n",
    "for i in range(15, 23):\n",
    "    fi = np.array(file['F'+str(i)].tolist())\n",
    "    R3Fs += fi/8/1e6\n",
    "\n",
    "QR1s = R1Fs*AFR1/(AFR1-AcR1)\n",
    "QR2s = R2Fs*AFR2/(AFR2-AcR2)\n",
    "QR3s = R3Fs*AFR3/(AFR3-AcR3)\n",
    "print('Ring one power density: ', QR1s)\n",
    "print('Ring two power density: ', QR2s)\n",
    "print('Ring three power density: ', QR3s)"
   ]
  },
  {
   "cell_type": "code",
   "execution_count": 17,
   "metadata": {},
   "outputs": [
    {
     "name": "stdout",
     "output_type": "stream",
     "text": [
      "ki:  0.0026954079929609504\n",
      "ko:  0.0026954075925975027\n"
     ]
    }
   ],
   "source": [
    "# simple - film\n",
    "rho = 5.7030  # [kg/m3] 6.4 MPa 259 C\n",
    "cp = 5.188  # [J/g/K] 6.4 MPa 259 C [2]\n",
    "cp *= 1e3  # [J/kg/K]\n",
    "mu = 2.9744e-5  # Pa.s 6.4 MPa 259 C\n",
    "v = 1701.71  # cm/s\n",
    "v /= 100  # m/s\n",
    "\n",
    "Ri = np.concatenate([R1, R2, R3])\n",
    "Ro = np.concatenate([R1o, R2o, R3o])\n",
    "\n",
    "ri = Ri/100 # m\n",
    "ro = Ro/100\n",
    "Ah = np.pi*(ro**2-ri**2)\n",
    "Ph = 2*np.pi*(ri+ro)\n",
    "Dh = 4*Ah/Ph\n",
    "Re = rho * v * Dh / mu\n",
    "# print('Re: ', Re)\n",
    "\n",
    "k = 0.41 # W/m/K\n",
    "Pr = mu * cp/k\n",
    "# print('Pr: ', Pr)\n",
    "\n",
    "Nu = 0.023*(Re**0.8)*(Pr**0.4)\n",
    "# print('Nu: ', Nu)\n",
    "h = Nu/Dh * k  # W/m^2/K\n",
    "# print('h: ', h)\n",
    "\n",
    "h /= 1e4  # W/cm^2/K\n",
    "\n",
    "ri *= 100  # cm\n",
    "ro *= 100  # cm\n",
    "dr = 0.01  # cm\n",
    "\n",
    "kgci = h * (ri + dr) * np.log(1 + dr/ri)\n",
    "kgco = h * (ro + dr) * np.log(1 + dr/ro)\n",
    "print('ki: ', np.average(kgci))  # W/cm/C\n",
    "print('ko: ', np.average(kgco))  # W/cm/C"
   ]
  },
  {
   "cell_type": "markdown",
   "metadata": {},
   "source": [
    "# SimpleF"
   ]
  },
  {
   "cell_type": "code",
   "execution_count": 18,
   "metadata": {},
   "outputs": [
    {
     "name": "stdout",
     "output_type": "stream",
     "text": [
      "IRR:  82.39\n",
      "FR1:  114.97\n",
      "FR2:  147.62\n",
      "FR3:  174.26\n"
     ]
    }
   ],
   "source": [
    "# Rings radius\n",
    "P = 18  # cm\n",
    "F = P/np.cos(np.pi/6)\n",
    "AF = F/2 * P * 6\n",
    "\n",
    "AIRR = 19*AF\n",
    "AFR1 = 18*AF\n",
    "AFR2 = 24*AF\n",
    "AFR3 = 24*AF\n",
    "\n",
    "R = []\n",
    "\n",
    "Ai = AIRR\n",
    "IRR = np.sqrt(1/np.pi*Ai)\n",
    "R.append(IRR)\n",
    "print('IRR: ', np.round(IRR, 2))\n",
    "\n",
    "Ai += AFR1\n",
    "FR1 = np.sqrt(1/np.pi*Ai)\n",
    "R.append(FR1)\n",
    "print('FR1: ', np.round(FR1, 2))\n",
    "\n",
    "Ai += AFR2\n",
    "FR2 = np.sqrt(1/np.pi*Ai)\n",
    "R.append(FR2)\n",
    "print('FR2: ', np.round(FR2, 2))\n",
    "\n",
    "Ai += AFR3\n",
    "FR3 = np.sqrt(1/np.pi*Ai)\n",
    "R.append(FR3)\n",
    "print('FR3: ', np.round(FR3, 2))\n",
    "\n",
    "ORR3 = 297.3\n",
    "R.append(ORR3)\n",
    "\n",
    "R = np.array(R)"
   ]
  },
  {
   "cell_type": "code",
   "execution_count": 25,
   "metadata": {},
   "outputs": [
    {
     "name": "stdout",
     "output_type": "stream",
     "text": [
      "3.2562555182294894\n",
      "R1:\n",
      "10\n",
      "[ 82.39  85.65  88.91  92.16  95.42  98.68 101.94 105.2  108.46 111.71]\n",
      "0.7213107524064298\n",
      "R2:\n",
      "10\n",
      "[114.97 118.24 121.5  124.77 128.03 131.3  134.56 137.83 141.09 144.36]\n",
      "0.7205173183213901\n",
      "R3:\n",
      "8\n",
      "[147.62 150.95 154.28 157.61 160.94 164.27 167.6  170.93]\n",
      "0.7335494845636958\n"
     ]
    }
   ],
   "source": [
    "Ac = 120*np.pi*0.794**2 + 6*np.pi*0.635**2\n",
    "AcR1 = 18*Ac\n",
    "AcR2 = 24*Ac\n",
    "AcR3 = 24*Ac\n",
    "\n",
    "F = np.cos(np.pi/6)*1.88*2 # min distance between cool channels\n",
    "print(F)\n",
    "\n",
    "print('R1:')\n",
    "n = int(np.floor((FR1-IRR)/F))\n",
    "print(n)\n",
    "p = (FR1-IRR)/n\n",
    "R1 = [IRR]\n",
    "for i in range(n-1):\n",
    "    R1.append(R1[-1]+p)\n",
    "print(np.round(R1, 2))\n",
    "R1 = np.array(R1)\n",
    "Rt = sum(R1)\n",
    "t = (-2*Rt + np.sqrt(4*Rt**2+4*n*AcR1/np.pi))/2/n\n",
    "print(t)\n",
    "R1o = R1 + t\n",
    "# print(np.round(Ro, 2))\n",
    "# print(sum(np.pi*(Ro**2-R**2)))\n",
    "\n",
    "print('R2:')\n",
    "n = int(np.floor((FR2-FR1)/F))\n",
    "print(n)\n",
    "p = (FR2-FR1)/n\n",
    "# print(p)\n",
    "R2 = [FR1]\n",
    "for i in range(n-1):\n",
    "    R2.append(R2[-1]+p)\n",
    "print(np.round(R2, 2))\n",
    "R2 = np.array(R2)\n",
    "Rt = sum(R2)\n",
    "t = (-2*Rt + np.sqrt(4*Rt**2+4*n*AcR2/np.pi))/2/n\n",
    "print(t)\n",
    "R2o = R2 + t\n",
    "# print(np.round(Ro, 2))\n",
    "# print(sum(np.pi*(Ro**2-R**2)))\n",
    "\n",
    "print('R3:')\n",
    "n = int(np.floor((FR3-FR2)/F))\n",
    "print(n)\n",
    "p = (FR3-FR2)/n\n",
    "# print(p)\n",
    "R3 = [FR2]\n",
    "for i in range(n-1):\n",
    "    R3.append(R3[-1]+p)\n",
    "print(np.round(R3, 2))\n",
    "R3 = np.array(R3)\n",
    "Rt = sum(R3)\n",
    "t = (-2*Rt + np.sqrt(4*Rt**2+4*n*AcR3/np.pi))/2/n\n",
    "print(t)\n",
    "R3o = R3 + t\n",
    "# print(np.round(Ro, 2))\n",
    "# print(sum(np.pi*(Ro**2-R**2)))\n"
   ]
  },
  {
   "cell_type": "code",
   "execution_count": 21,
   "metadata": {},
   "outputs": [
    {
     "name": "stdout",
     "output_type": "stream",
     "text": [
      "Ring one power density:  [ 4.9573133   5.68414705  6.43529391  7.22205732  8.24619338  9.83422275\n",
      " 11.11919146 12.03093274 11.61355785  8.95553876]\n",
      "Ring two power density:  [3.88017895 4.55342791 5.33080732 5.97094567 6.74256671 8.11513723\n",
      " 9.00992332 9.59055856 8.97985186 6.61380325]\n",
      "Ring three power density:  [ 4.21320445  4.99842164  5.82826616  6.5459825   7.44364777  9.06654726\n",
      " 10.14528115 10.83100657 10.10481264  7.13125642]\n"
     ]
    }
   ],
   "source": [
    "# power density averaged in the ring (divided into layers)\n",
    "P = 18  # cm\n",
    "F = P/np.cos(np.pi/6)\n",
    "AF = F/2 * P * 6\n",
    "AFR1 = 18*AF\n",
    "AFR2 = 24*AF\n",
    "AFR3 = 24*AF\n",
    "\n",
    "Ac = 120*np.pi*0.794**2 + 6*np.pi*0.635**2\n",
    "AcR1 = 18*Ac\n",
    "AcR2 = 24*Ac\n",
    "AcR3 = 24*Ac\n",
    "\n",
    "\n",
    "file = pd.read_csv('power.csv')\n",
    "\n",
    "# W/cm3\n",
    "R1Fs = np.zeros(10)\n",
    "for i in range(1, 7):\n",
    "    fi = np.array(file['F'+str(i)].tolist())\n",
    "    R1Fs += fi/6/1e6\n",
    "\n",
    "R2Fs = np.zeros(10)\n",
    "for i in range(7, 15):\n",
    "    fi = np.array(file['F'+str(i)].tolist())\n",
    "    R2Fs += fi/8/1e6\n",
    "\n",
    "R3Fs = np.zeros(10)\n",
    "for i in range(15, 23):\n",
    "    fi = np.array(file['F'+str(i)].tolist())\n",
    "    R3Fs += fi/8/1e6\n",
    "\n",
    "QR1s = R1Fs*AFR1/(AFR1-AcR1)\n",
    "QR2s = R2Fs*AFR2/(AFR2-AcR2)\n",
    "QR3s = R3Fs*AFR3/(AFR3-AcR3)\n",
    "print('Ring one power density: ', QR1s)\n",
    "print('Ring two power density: ', QR2s)\n",
    "print('Ring three power density: ', QR3s)"
   ]
  },
  {
   "cell_type": "code",
   "execution_count": 23,
   "metadata": {},
   "outputs": [
    {
     "name": "stdout",
     "output_type": "stream",
     "text": [
      "ki:  0.002417876793408105\n",
      "ko:  0.0024178761686396532\n"
     ]
    }
   ],
   "source": [
    "# simple - film\n",
    "rho = 5.7030  # [kg/m3] 6.4 MPa 259 C\n",
    "cp = 5.188  # [J/g/K] 6.4 MPa 259 C [2]\n",
    "cp *= 1e3  # [J/kg/K]\n",
    "mu = 2.9744e-5  # Pa.s 6.4 MPa 259 C\n",
    "v = 1701.71  # cm/s\n",
    "v /= 100  # m/s\n",
    "\n",
    "Ri = np.concatenate([R1, R2, R3])\n",
    "Ro = np.concatenate([R1o, R2o, R3o])\n",
    "\n",
    "ri = Ri/100 # m\n",
    "ro = Ro/100\n",
    "Ah = np.pi*(ro**2-ri**2)\n",
    "Ph = 2*np.pi*(ri+ro)\n",
    "Dh = 4*Ah/Ph\n",
    "Re = rho * v * Dh / mu\n",
    "# print('Re: ', Re)\n",
    "\n",
    "k = 0.41 # W/m/K\n",
    "Pr = mu * cp/k\n",
    "# print('Pr: ', Pr)\n",
    "\n",
    "Nu = 0.023*(Re**0.8)*(Pr**0.4)\n",
    "# print('Nu: ', Nu)\n",
    "h = Nu/Dh * k  # W/m^2/K\n",
    "# print('h: ', h)\n",
    "\n",
    "h /= 1e4  # W/cm^2/K\n",
    "\n",
    "ri *= 100  # cm\n",
    "ro *= 100  # cm\n",
    "dr = 0.01  # cm\n",
    "\n",
    "kgci = h * (ri + dr) * np.log(1 + dr/ri)\n",
    "kgco = h * (ro + dr) * np.log(1 + dr/ro)\n",
    "print('ki: ', np.average(kgci))  # W/cm/C\n",
    "print('ko: ', np.average(kgco))  # W/cm/C"
   ]
  },
  {
   "cell_type": "markdown",
   "metadata": {},
   "source": [
    "# coupled"
   ]
  },
  {
   "cell_type": "code",
   "execution_count": 5,
   "metadata": {},
   "outputs": [
    {
     "name": "stdout",
     "output_type": "stream",
     "text": [
      "average:  7.70646919571904\n"
     ]
    }
   ],
   "source": [
    "# power density averaged in the ring (divided into layers)\n",
    "\n",
    "P = 18  # cm\n",
    "F = P/np.cos(np.pi/6)\n",
    "AF = F/2 * P * 6\n",
    "AFR1 = 18*AF\n",
    "AFR2 = 24*AF\n",
    "AFR3 = 24*AF\n",
    "\n",
    "Ac = 120*np.pi*0.794**2 + 6*np.pi*0.635**2\n",
    "AcR1 = 18*Ac\n",
    "AcR2 = 24*Ac\n",
    "AcR3 = 24*Ac\n",
    "\n",
    "file = pd.read_csv('power.csv')\n",
    "\n",
    "# W/cm3\n",
    "R1Fs = np.zeros(10)\n",
    "for i in range(1, 7):\n",
    "    fi = np.array(file['F'+str(i)].tolist())\n",
    "    R1Fs += fi/6/1e6\n",
    "\n",
    "R2Fs = np.zeros(10)\n",
    "for i in range(7, 15):\n",
    "    fi = np.array(file['F'+str(i)].tolist())\n",
    "    R2Fs += fi/8/1e6\n",
    "\n",
    "R3Fs = np.zeros(10)\n",
    "for i in range(15, 23):\n",
    "    fi = np.array(file['F'+str(i)].tolist())\n",
    "    R3Fs += fi/8/1e6\n",
    "\n",
    "QR1s = R1Fs*AFR1/(AFR1-AcR1)\n",
    "QR2s = R2Fs*AFR2/(AFR2-AcR2)\n",
    "QR3s = R3Fs*AFR3/(AFR3-AcR3)\n",
    "\n",
    "print('average: ', (np.average(QR1s) + np.average(QR2s) + np.average(QR3s))/3)"
   ]
  },
  {
   "cell_type": "code",
   "execution_count": 6,
   "metadata": {},
   "outputs": [
    {
     "name": "stdout",
     "output_type": "stream",
     "text": [
      "IRR1:  18.9\n",
      "IRR2:  50.01\n",
      "IRR3:  82.39\n",
      "FR1:  114.97\n",
      "FR2:  147.62\n",
      "FR3:  174.26\n",
      "ORR1:  207.91\n",
      "ORR2:  241.32\n",
      "(118.28707113155804, 128.325472183805, 138.36387323605197)\n"
     ]
    }
   ],
   "source": [
    "P = 18  # cm\n",
    "F = P/np.cos(np.pi/6)\n",
    "AF = F/2 * P * 6\n",
    "\n",
    "AIRR1 = AF\n",
    "AIRR2 = 6*AF\n",
    "AIRR3 = 12*AF\n",
    "AFR1 = 18*AF\n",
    "AFR2 = 24*AF\n",
    "AFR3 = 24*AF\n",
    "AORR1 = 36*AF\n",
    "AORR2 = 42*AF\n",
    "R = []\n",
    "\n",
    "Ai = AIRR1\n",
    "IRR1 = np.sqrt(1/np.pi*Ai)\n",
    "R.append(IRR1)\n",
    "print('IRR1: ', np.round(IRR1, 2))\n",
    "\n",
    "Ai += AIRR2\n",
    "IRR2 = np.sqrt(1/np.pi*Ai)\n",
    "R.append(IRR2)\n",
    "print('IRR2: ', np.round(IRR2, 2))\n",
    "\n",
    "Ai += AIRR3\n",
    "IRR3 = np.sqrt(1/np.pi*Ai)\n",
    "R.append(IRR3)\n",
    "print('IRR3: ', np.round(IRR3, 2))\n",
    "\n",
    "Ai += AFR1\n",
    "FR1 = np.sqrt(1/np.pi*Ai)\n",
    "R.append(FR1)\n",
    "print('FR1: ', np.round(FR1, 2))\n",
    "\n",
    "Ai += AFR2\n",
    "FR2 = np.sqrt(1/np.pi*Ai)\n",
    "R.append(FR2)\n",
    "print('FR2: ', np.round(FR2, 2))\n",
    "\n",
    "Ai += AFR3\n",
    "FR3 = np.sqrt(1/np.pi*Ai)\n",
    "R.append(FR3)\n",
    "print('FR3: ', np.round(FR3, 2))\n",
    "\n",
    "Ai += AORR1\n",
    "ORR1 = np.sqrt(1/np.pi*Ai)\n",
    "R.append(ORR1)\n",
    "print('ORR1: ', np.round(ORR1, 2))\n",
    "\n",
    "Ai += AORR2\n",
    "ORR2 = np.sqrt(1/np.pi*Ai)\n",
    "R.append(ORR2)\n",
    "print('ORR2: ', np.round(ORR2, 2))\n",
    "\n",
    "ORR3 = 297.3\n",
    "R.append(ORR3)\n",
    "\n",
    "R = np.array(R)\n",
    "\n",
    "Ac = 120*np.pi*0.794**2 + 6*np.pi*0.635**2\n",
    "AcR1 = 18*Ac\n",
    "AcR2 = 24*Ac\n",
    "AcR3 = 24*Ac\n",
    "\n",
    "print(calc_Rs(IRR3, FR3, AcR1+AcR2+AcR3))"
   ]
  },
  {
   "cell_type": "code",
   "execution_count": 10,
   "metadata": {},
   "outputs": [
    {
     "name": "stdout",
     "output_type": "stream",
     "text": [
      "688.5766239975737\n"
     ]
    }
   ],
   "source": [
    "To = 598.86\n",
    "Tin = 259\n",
    "\n",
    "cp = 5188\n",
    "v = 1701.71\n",
    "rho = 5.7030e-6\n",
    "\n",
    "A = np.pi*(138.36**2-118.29**2)\n",
    "\n",
    "DT = 350e6/rho/v/cp/A\n",
    "print(DT+259)\n"
   ]
  },
  {
   "cell_type": "code",
   "execution_count": 14,
   "metadata": {},
   "outputs": [
    {
     "data": {
      "text/plain": [
       "594.7341204155721"
      ]
     },
     "execution_count": 14,
     "metadata": {},
     "output_type": "execute_result"
    }
   ],
   "source": [
    "Af = np.pi*(FR3**2-IRR3**2)\n",
    "DT*(Af-A)/Af+259"
   ]
  },
  {
   "cell_type": "markdown",
   "metadata": {},
   "source": [
    "# simpleF9"
   ]
  },
  {
   "cell_type": "code",
   "execution_count": 2,
   "metadata": {},
   "outputs": [
    {
     "name": "stdout",
     "output_type": "stream",
     "text": [
      "IRR:  82.39\n",
      "FR3:  174.26\n",
      "3.2562555182294894\n",
      "Ri:\n",
      "28\n",
      "0.6923035208446201\n",
      "[ 82.389  85.324  88.605  91.886  95.168  98.449 101.73  105.011 108.292\n",
      " 111.573 114.855 118.136 121.417 124.698 127.979 131.26  134.542 137.823\n",
      " 141.104 144.385 147.666 150.948 154.229 157.51  160.791 164.072 167.353\n",
      " 170.635 173.57 ]\n",
      "[ 83.081  86.016  89.298  92.579  95.86   99.141 102.422 105.703 108.985\n",
      " 112.266 115.547 118.828 122.109 125.39  128.672 131.953 135.234 138.515\n",
      " 141.796 145.077 148.359 151.64  154.921 158.202 161.483 164.764 168.046\n",
      " 171.327 174.262]\n"
     ]
    }
   ],
   "source": [
    "# Rings radius\n",
    "P = 18  # cm\n",
    "F = P/np.cos(np.pi/6)\n",
    "AF = F/2 * P * 6\n",
    "\n",
    "AIRR = 19*AF\n",
    "AFR1 = 18*AF\n",
    "AFR2 = 24*AF\n",
    "AFR3 = 24*AF\n",
    "\n",
    "R = []\n",
    "\n",
    "Ai = AIRR\n",
    "IRR = np.sqrt(1/np.pi*Ai)\n",
    "print('IRR: ', np.round(IRR, 2))\n",
    "\n",
    "Ai += AFR1\n",
    "Ai += AFR2\n",
    "Ai += AFR3\n",
    "\n",
    "FR3 = np.sqrt(1/np.pi*Ai)\n",
    "print('FR3: ', np.round(FR3, 2))\n",
    "\n",
    "Ac = 120*np.pi*0.794**2 + 6*np.pi*0.635**2\n",
    "AcR1 = 18*Ac\n",
    "AcR2 = 24*Ac\n",
    "AcR3 = 24*Ac\n",
    "Act = AcR1 + AcR2 + AcR3\n",
    "\n",
    "F = np.cos(np.pi/6)*1.88*2 # min distance between cool channels\n",
    "print(F)\n",
    "\n",
    "print('Ri:')\n",
    "n = int(np.floor((FR3-IRR)/F))\n",
    "print(n)\n",
    "p = (FR3-IRR)/n\n",
    "\n",
    "Rm = np.linspace(IRR, FR3, n+1)\n",
    "t = Act/np.pi/2/sum(Rm)\n",
    "print(t)\n",
    "\n",
    "Ri = Rm-t/2\n",
    "Ri[0] = IRR\n",
    "Ri[-1] = FR3-t\n",
    "Ro = Ri+t\n",
    "print(np.round(Ri, 3))\n",
    "print(np.round(Ro, 3))"
   ]
  },
  {
   "cell_type": "code",
   "execution_count": 3,
   "metadata": {},
   "outputs": [
    {
     "data": {
      "text/plain": [
       "29"
      ]
     },
     "execution_count": 3,
     "metadata": {},
     "output_type": "execute_result"
    }
   ],
   "source": [
    "len(Ri)"
   ]
  },
  {
   "cell_type": "code",
   "execution_count": null,
   "metadata": {},
   "outputs": [],
   "source": []
  }
 ],
 "metadata": {
  "kernelspec": {
   "display_name": "Python 3",
   "language": "python",
   "name": "python3"
  },
  "language_info": {
   "codemirror_mode": {
    "name": "ipython",
    "version": 3
   },
   "file_extension": ".py",
   "mimetype": "text/x-python",
   "name": "python",
   "nbconvert_exporter": "python",
   "pygments_lexer": "ipython3",
   "version": "3.8.3"
  }
 },
 "nbformat": 4,
 "nbformat_minor": 4
}
