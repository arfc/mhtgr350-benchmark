{
 "cells": [
  {
   "cell_type": "markdown",
   "metadata": {},
   "source": [
    "## Calculates the homogeneuous material density"
   ]
  },
  {
   "cell_type": "code",
   "execution_count": 4,
   "metadata": {},
   "outputs": [
    {
     "name": "stdout",
     "output_type": "stream",
     "text": [
      "2.176042413113923\n"
     ]
    }
   ],
   "source": [
    "import numpy as np\n",
    "\n",
    "r_uco = 0.02125  # [cm]\n",
    "r_buf = 0.03125  # [cm]\n",
    "r_ipyc = 0.03475  # [cm]\n",
    "r_sic = 0.03825  # [cm]\n",
    "r_opyc = 0.04225  # [cm]\n",
    "\n",
    "V_total = np.pi * 0.6225**2 * 4.928\n",
    "V_triso = V_total * 0.35\n",
    "V_mat = V_total - V_triso\n",
    "\n",
    "V_uco = V_triso * (r_uco/r_opyc)**3\n",
    "V_buf = V_triso * ((r_buf/r_opyc)**3 - (r_uco/r_opyc)**3)\n",
    "V_ipyc = V_triso * ((r_ipyc/r_opyc)**3 - (r_buf/r_opyc)**3)\n",
    "V_sic = V_triso * ((r_sic/r_opyc)**3 - (r_ipyc/r_opyc)**3)\n",
    "V_opyc = V_triso * (1 - (r_sic/r_opyc)**3)\n",
    "\n",
    "rho_uco = 10.5  # [g/cm3]\n",
    "rho_buf = 1.0  # [g/cm3]\n",
    "rho_ipyc = 1.9  # [g/cm3]\n",
    "rho_sic = 3.2  # [g/cm3]\n",
    "rho_opyc = 1.9  # [g/cm3]\n",
    "rho_mat = 1.74  # [g/cm3]\n",
    "\n",
    "M_uco = rho_uco * V_uco\n",
    "M_buf = rho_buf * V_buf\n",
    "M_ipyc = rho_ipyc * V_ipyc\n",
    "M_sic = rho_sic * V_sic\n",
    "M_opyc = rho_opyc * V_opyc\n",
    "M_mat = rho_mat * V_mat\n",
    "M_tot = M_uco + M_buf + M_ipyc + M_sic + M_opyc + M_mat\n",
    "\n",
    "print(M_tot/V_total)"
   ]
  }
 ],
 "metadata": {
  "kernelspec": {
   "display_name": "Python 3",
   "language": "python",
   "name": "python3"
  },
  "language_info": {
   "codemirror_mode": {
    "name": "ipython",
    "version": 3
   },
   "file_extension": ".py",
   "mimetype": "text/x-python",
   "name": "python",
   "nbconvert_exporter": "python",
   "pygments_lexer": "ipython3",
   "version": "3.8.3"
  }
 },
 "nbformat": 4,
 "nbformat_minor": 4
}
