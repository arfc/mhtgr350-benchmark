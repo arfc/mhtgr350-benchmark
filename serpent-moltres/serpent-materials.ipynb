{
 "cells": [
  {
   "cell_type": "code",
   "execution_count": 1,
   "metadata": {},
   "outputs": [],
   "source": [
    "import numpy as np\n",
    "Na = 6.022e23"
   ]
  },
  {
   "cell_type": "code",
   "execution_count": 3,
   "metadata": {},
   "outputs": [
    {
     "name": "stdout",
     "output_type": "stream",
     "text": [
      "UCO:\n",
      "wu235:  0.13614845096329\n",
      "wu238:  0.7517039114132397\n",
      "wo16:  0.0897065977520648\n",
      "wc12:  0.0224266494380162\n",
      "\n",
      "Nu235: 0.0036633202990892723\n",
      "Nu238: 0.0199710042111641\n",
      "No16: 0.035451486765380055\n",
      "Nc12: 0.011817162255126685\n",
      "\n",
      "buffer:\n",
      "Nc12: 0.05018333333333333\n",
      "\n",
      "PyC:\n",
      "Nc12: 0.09534833333333331\n",
      "\n",
      "SiC:\n",
      "wsi28:  0.6432646625635917\n",
      "wsi29:  0.03396226119748123\n",
      "wsi30:  0.02317307623892703\n",
      "wc12:  0.2996\n",
      "\n",
      "Nsi28: 0.04427131197666227\n",
      "Nsi29: 0.002256780545448077\n",
      "Nsi30: 0.0014885148278487316\n",
      "Nc12: 0.04811176533333333\n"
     ]
    }
   ],
   "source": [
    "# --------------- TRISO ----------------\n",
    "# UCO\n",
    "print('UCO:')\n",
    "\n",
    "Mtot = 0.155*235 + (1-0.155)*238 + 0.5 * 12.0107 + 1.5 * 15.999\n",
    "wu235 = 0.155*235/Mtot\n",
    "wu238 = (1-0.155)*238/Mtot\n",
    "wo16 = 1.5*16/Mtot\n",
    "wc12 = 0.5*12/Mtot\n",
    "\n",
    "print('wu235: ', wu235)\n",
    "print('wu238: ', wu238)\n",
    "print('wo16: ', wo16)\n",
    "print('wc12: ', wc12)\n",
    "\n",
    "print('\\nNu235:', wu235 * 10.5/235 * Na * 1e-24)\n",
    "print('Nu238:', wu238 * 10.5/238 * Na * 1e-24)\n",
    "print('No16:', wo16 * 10.5/16 * Na * 1e-24)\n",
    "print('Nc12:', wc12 * 10.5/12 * Na * 1e-24)\n",
    "\n",
    "# buffer\n",
    "print('\\nbuffer:')\n",
    "print('Nc12:', 1.0/12 * Na * 1e-24)\n",
    "\n",
    "# PyC\n",
    "print('\\nPyC:')\n",
    "print('Nc12:', 1.9/12 * Na * 1e-24)\n",
    "\n",
    "# SiC\n",
    "print('\\nSiC:')\n",
    "\n",
    "wsi = 0.7004\n",
    "wsi28 = wsi * 0.922 * 28/(0.922 * 28 + 0.047 * 29 + 0.031 * 30)\n",
    "wsi29 = wsi * 0.047 * 29/(0.922 * 28 + 0.047 * 29 + 0.031 * 30)\n",
    "wsi30 = wsi * 0.031 * 30/(0.922 * 28 + 0.047 * 29 + 0.031 * 30)\n",
    "wc12 = 0.2996\n",
    "\n",
    "print('wsi28: ', wsi28)\n",
    "print('wsi29: ', wsi29)\n",
    "print('wsi30: ', wsi30)\n",
    "print('wc12: ', wc12)\n",
    "\n",
    "print('\\nNsi28:', wsi28 * 3.2/28 * Na * 1e-24)\n",
    "print('Nsi29:', wsi29 * 3.2/29 * Na * 1e-24)\n",
    "print('Nsi30:', wsi30 * 3.2/30 * Na * 1e-24)\n",
    "print('Nc12:', wc12 * 3.2/12 * Na * 1e-24)"
   ]
  },
  {
   "cell_type": "code",
   "execution_count": 4,
   "metadata": {},
   "outputs": [
    {
     "name": "stdout",
     "output_type": "stream",
     "text": [
      "\n",
      "Matrix:\n",
      "Nc12: 0.087319\n"
     ]
    }
   ],
   "source": [
    "# Matrix\n",
    "print('\\nMatrix:')\n",
    "print('Nc12:', 1.74/12 * Na * 1e-24)"
   ]
  },
  {
   "cell_type": "code",
   "execution_count": 5,
   "metadata": {},
   "outputs": [
    {
     "name": "stdout",
     "output_type": "stream",
     "text": [
      "\n",
      "bkrnl:\n",
      "wb10:  0.14422144826572755\n",
      "wb11:  0.6385603922961435\n",
      "wc12:  0.21721815943812903\n",
      "\n",
      "Nb10:  0.02145198856796842\n",
      "Nb11:  0.08634694895951107\n",
      "Nc12:  0.026924806313807833\n",
      "\n",
      "buffer2:\n",
      "Nc12: 0.05018333333333333\n",
      "\n",
      "PyC:\n",
      "Nc12: 0.09384283333333335\n",
      "\n",
      "matrix2:\n",
      "Nc12: 0.04717233333333332\n"
     ]
    }
   ],
   "source": [
    "# ---------------- Poison -----------------\n",
    "# B4C\n",
    "print('\\nbkrnl:')\n",
    "\n",
    "Mtot = 4*10.811 + 1*12\n",
    "\n",
    "wb10 = 4*10.811/Mtot * 0.199 * 10/(0.199 * 10 + 0.801 * 11)\n",
    "wb11 = 4*10.811/Mtot * 0.801 * 11/(0.199 * 10 + 0.801 * 11)\n",
    "wc12 = 12/Mtot\n",
    "\n",
    "print('wb10: ', wb10)\n",
    "print('wb11: ', wb11)\n",
    "print('wc12: ', wc12)\n",
    "\n",
    "print('\\nNb10: ', wb10 * 2.47/10 * Na * 1e-24)\n",
    "print('Nb11: ', wb11 * 2.47/11 * Na * 1e-24)\n",
    "print('Nc12: ', wc12 * 2.47/12 * Na * 1e-24)\n",
    "\n",
    "# buffer2\n",
    "print('\\nbuffer2:')\n",
    "print('Nc12:', 1.0/12 * Na * 1e-24)\n",
    "\n",
    "# pyc2\n",
    "print('\\nPyC:')\n",
    "print('Nc12:', 1.87/12 * Na * 1e-24)\n",
    "\n",
    "# matrix2\n",
    "print('\\nmatrix2:')\n",
    "print('Nc12:', 0.94/12 * Na * 1e-24)"
   ]
  },
  {
   "cell_type": "code",
   "execution_count": 6,
   "metadata": {},
   "outputs": [
    {
     "name": "stdout",
     "output_type": "stream",
     "text": [
      "\n",
      "He:\n",
      "NHe4:  0.00038427887499999997\n",
      "\n",
      "Block:\n",
      "Nc12:  0.09283916666666667\n"
     ]
    }
   ],
   "source": [
    "# ---------------- Coolant and moderator -----------------\n",
    "# He\n",
    "print('\\nHe:')\n",
    "print('NHe4: ', 0.0025525/4 * Na * 1e-24)\n",
    "\n",
    "# Block\n",
    "wc12 = 1.0\n",
    "print('\\nBlock:')\n",
    "print('Nc12: ', 1.85/12 * Na * 1e-24)"
   ]
  },
  {
   "cell_type": "code",
   "execution_count": null,
   "metadata": {},
   "outputs": [],
   "source": []
  }
 ],
 "metadata": {
  "kernelspec": {
   "display_name": "Python 3",
   "language": "python",
   "name": "python3"
  },
  "language_info": {
   "codemirror_mode": {
    "name": "ipython",
    "version": 3
   },
   "file_extension": ".py",
   "mimetype": "text/x-python",
   "name": "python",
   "nbconvert_exporter": "python",
   "pygments_lexer": "ipython3",
   "version": "3.8.3"
  }
 },
 "nbformat": 4,
 "nbformat_minor": 4
}
