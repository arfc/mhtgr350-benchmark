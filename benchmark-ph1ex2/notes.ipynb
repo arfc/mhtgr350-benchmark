{
 "cells": [
  {
   "cell_type": "code",
   "execution_count": 1,
   "metadata": {},
   "outputs": [],
   "source": [
    "import numpy as np\n",
    "import pandas as pd\n",
    "\n",
    "def calc_Rs(R1, R2, A):\n",
    "    midR = (R1+R2)/2\n",
    "    Ro = (A/np.pi+4*midR**2)/4/midR\n",
    "    Ri = 2*midR - Ro\n",
    "    return Ri, midR, Ro"
   ]
  },
  {
   "cell_type": "markdown",
   "metadata": {},
   "source": [
    "# First Model\n",
    "\n",
    "## Geometric definition"
   ]
  },
  {
   "cell_type": "code",
   "execution_count": 9,
   "metadata": {},
   "outputs": [
    {
     "name": "stdout",
     "output_type": "stream",
     "text": [
      "IRR1:  18.9\n",
      "IRR2:  50.01\n",
      "IRR3:  82.39\n",
      "FR1:  114.97\n",
      "FR2:  147.62\n",
      "FR3:  174.26\n",
      "ORR1:  207.91\n",
      "ORR2:  241.32\n"
     ]
    }
   ],
   "source": [
    "# Rings radius\n",
    "P = 18  # cm\n",
    "F = P/np.cos(np.pi/6)\n",
    "AF = F/2 * P * 6\n",
    "\n",
    "AIRR1 = AF\n",
    "AIRR2 = 6*AF\n",
    "AIRR3 = 12*AF\n",
    "AFR1 = 18*AF\n",
    "AFR2 = 24*AF\n",
    "AFR3 = 24*AF\n",
    "AORR1 = 36*AF\n",
    "AORR2 = 42*AF\n",
    "\n",
    "R = []\n",
    "\n",
    "Ai = AIRR1\n",
    "IRR1 = np.sqrt(1/np.pi*Ai)\n",
    "R.append(IRR1)\n",
    "print('IRR1: ', np.round(IRR1, 2))\n",
    "\n",
    "Ai += AIRR2\n",
    "IRR2 = np.sqrt(1/np.pi*Ai)\n",
    "R.append(IRR2)\n",
    "print('IRR2: ', np.round(IRR2, 2))\n",
    "\n",
    "Ai += AIRR3\n",
    "IRR3 = np.sqrt(1/np.pi*Ai)\n",
    "R.append(IRR3)\n",
    "print('IRR3: ', np.round(IRR3, 2))\n",
    "\n",
    "Ai += AFR1\n",
    "FR1 = np.sqrt(1/np.pi*Ai)\n",
    "R.append(FR1)\n",
    "print('FR1: ', np.round(FR1, 2))\n",
    "\n",
    "Ai += AFR2\n",
    "FR2 = np.sqrt(1/np.pi*Ai)\n",
    "R.append(FR2)\n",
    "print('FR2: ', np.round(FR2, 2))\n",
    "\n",
    "Ai += AFR3\n",
    "FR3 = np.sqrt(1/np.pi*Ai)\n",
    "R.append(FR3)\n",
    "print('FR3: ', np.round(FR3, 2))\n",
    "\n",
    "Ai += AORR1\n",
    "ORR1 = np.sqrt(1/np.pi*Ai)\n",
    "R.append(ORR1)\n",
    "print('ORR1: ', np.round(ORR1, 2))\n",
    "\n",
    "Ai += AORR2\n",
    "ORR2 = np.sqrt(1/np.pi*Ai)\n",
    "R.append(ORR2)\n",
    "print('ORR2: ', np.round(ORR2, 2))\n",
    "\n",
    "ORR3 = 297.3\n",
    "R.append(ORR3)\n",
    "\n",
    "R = np.array(R)"
   ]
  },
  {
   "cell_type": "code",
   "execution_count": 10,
   "metadata": {},
   "outputs": [
    {
     "name": "stdout",
     "output_type": "stream",
     "text": [
      "[ 16.95831145  48.06523701  80.4460442  113.02939742 145.68124081\n",
      " 172.31881817 205.97183589 239.37327269 295.356959  ]\n"
     ]
    }
   ],
   "source": [
    "# Coolant channel radii\n",
    "Ac = 120*np.pi*0.794**2 + 6*np.pi*0.635**2\n",
    "AcR1 = 18*Ac\n",
    "AcR2 = 24*Ac\n",
    "AcR3 = 24*Ac\n",
    "Actotal = AcR1 + AcR2 + AcR3\n",
    "\n",
    "RT = sum(R)\n",
    "\n",
    "t = (2*RT - np.sqrt(4*RT**2 - 36*Actotal/np.pi))/18\n",
    "# print(t)\n",
    "Rji = R - t\n",
    "print(Rji)"
   ]
  },
  {
   "cell_type": "code",
   "execution_count": 11,
   "metadata": {},
   "outputs": [
    {
     "name": "stdout",
     "output_type": "stream",
     "text": [
      "Ring one power density:  [3.874      4.442      5.029      5.64383333 6.44416667 7.68516667\n",
      " 8.68933333 9.40183333 9.07566667 6.9985    ]\n",
      "Ring two power density:  [3.03225  3.558375 4.165875 4.666125 5.269125 6.34175  7.041    7.49475\n",
      " 7.0175   5.1685  ]\n",
      "Ring three power density:  [3.2925   3.906125 4.554625 5.1155   5.817    7.08525  7.92825  8.464125\n",
      " 7.896625 5.572875]\n"
     ]
    }
   ],
   "source": [
    "# power density averaged in the ring (divided into layers)\n",
    "file = pd.read_csv('power.csv')\n",
    "\n",
    "# W/cm3\n",
    "R1Fs = np.zeros(10)\n",
    "for i in range(1, 7):\n",
    "    fi = np.array(file['F'+str(i)].tolist())\n",
    "    R1Fs += fi/6/1e6\n",
    "\n",
    "R2Fs = np.zeros(10)\n",
    "for i in range(7, 15):\n",
    "    fi = np.array(file['F'+str(i)].tolist())\n",
    "    R2Fs += fi/8/1e6\n",
    "\n",
    "R3Fs = np.zeros(10)\n",
    "for i in range(15, 23):\n",
    "    fi = np.array(file['F'+str(i)].tolist())\n",
    "    R3Fs += fi/8/1e6\n",
    "\n",
    "QR1s = R1Fs*AFR1/(AFR1-np.pi*(FR1**2-R[3]**2))\n",
    "QR2s = R2Fs*AFR2/(AFR2-np.pi*(FR2**2-R[4]**2))\n",
    "QR3s = R3Fs*AFR3/(AFR3-np.pi*(FR3**2-R[5]**2))\n",
    "print('Ring one power density: ', QR1s)\n",
    "print('Ring two power density: ', QR2s)\n",
    "print('Ring three power density: ', QR3s)"
   ]
  },
  {
   "cell_type": "code",
   "execution_count": 12,
   "metadata": {},
   "outputs": [
    {
     "name": "stdout",
     "output_type": "stream",
     "text": [
      "Re:  [126794.81959681 126794.81959681 126794.81959681 126794.81959681\n",
      " 126794.81959681 126794.81959681 126794.81959681 126794.81959681\n",
      " 126794.81959681]\n",
      "Pr:  0.37637041951219513\n",
      "Nu:  [188.12877923 188.12877923 188.12877923 188.12877923 188.12877923\n",
      " 188.12877923 188.12877923 188.12877923 188.12877923]\n",
      "h:  [1984.84745186 1984.84745186 1984.84745186 1984.84745186 1984.84745186\n",
      " 1984.84745186 1984.84745186 1984.84745186 1984.84745186]\n",
      "ki:  [0.00198543 0.00198505 0.00198497 0.00198494 0.00198492 0.00198491\n",
      " 0.0019849  0.00198489 0.00198488]\n",
      "ko:  [0.00198537 0.00198505 0.00198497 0.00198493 0.00198491 0.0019849\n",
      " 0.0019849  0.00198489 0.00198488]\n"
     ]
    }
   ],
   "source": [
    "# film thermal conductivity\n",
    "rho = 5.7030  # [kg/m3] 6.4 MPa 259 C\n",
    "cp = 5.188  # [J/g/K] 6.4 MPa 259 C [2]\n",
    "cp *= 1e3  # [J/kg/K]\n",
    "mu = 2.9744e-5  # Pa.s 6.4 MPa 259 C\n",
    "v = 1701.71  # cm/s\n",
    "v /= 100  # m/s\n",
    "\n",
    "ri = Rji/100 # m\n",
    "ro = R/100\n",
    "Ah = np.pi*(ro**2-ri**2)\n",
    "Ph = 2*np.pi*(ri+ro)\n",
    "Dh = 4*Ah/Ph\n",
    "Re = rho * v * Dh / mu\n",
    "print('Re: ', Re)\n",
    "\n",
    "k = 0.41 # W/m/K\n",
    "Pr = mu * cp/k\n",
    "print('Pr: ', Pr)\n",
    "\n",
    "Nu = 0.023*(Re**0.8)*(Pr**0.4)\n",
    "print('Nu: ', Nu)\n",
    "h = Nu/Dh * k  # W/m^2/K\n",
    "print('h: ', h)\n",
    "\n",
    "h /= 1e4  # W/cm^2/K\n",
    "\n",
    "ri *= 100  # cm\n",
    "ro *= 100  # cm\n",
    "dr = 0.01  # cm\n",
    "\n",
    "kgci = h * (ri + dr) * np.log(1 + dr/ri)\n",
    "kgco = h * (ro + dr) * np.log(1 + dr/ro)\n",
    "print('ki: ', kgci)  # W/cm/C\n",
    "print('ko: ', kgco)  # W/cm/C"
   ]
  },
  {
   "cell_type": "markdown",
   "metadata": {},
   "source": [
    "# Second Model \n",
    "\n",
    "## Geometric definition"
   ]
  },
  {
   "cell_type": "code",
   "execution_count": 2,
   "metadata": {},
   "outputs": [
    {
     "name": "stdout",
     "output_type": "stream",
     "text": [
      "RIR:  82.39\n",
      "RR1:  114.97\n",
      "RR2:  147.62\n",
      "RR3:  174.26\n"
     ]
    }
   ],
   "source": [
    "# Rings radius\n",
    "P = 18  # cm\n",
    "F = P/np.cos(np.pi/6)\n",
    "AF = F/2 * P * 6\n",
    "\n",
    "AIR = 19*AF\n",
    "AR1 = 18*AF\n",
    "AR2 = 24*AF\n",
    "AR3 = 24*AF\n",
    "\n",
    "RIR = np.sqrt(1/np.pi*AIR)\n",
    "print('RIR: ', np.round(RIR, 2))\n",
    "RR1 = np.sqrt(1/np.pi*(AIR+AR1))\n",
    "print('RR1: ', np.round(RR1, 2))\n",
    "RR2 = np.sqrt(1/np.pi*(AIR+AR1+AR2))\n",
    "print('RR2: ', np.round(RR2, 2))\n",
    "RR3 = np.sqrt(1/np.pi*(AIR+AR1+AR2+AR3))\n",
    "print('RR3: ', np.round(RR3, 2))"
   ]
  },
  {
   "cell_type": "code",
   "execution_count": 3,
   "metadata": {},
   "outputs": [
    {
     "name": "stdout",
     "output_type": "stream",
     "text": [
      "[ 95.12  98.68 102.24]\n",
      "[127.73 131.3  134.87]\n",
      "[158.03 160.94 163.85]\n"
     ]
    }
   ],
   "source": [
    "# Coolant channel radii\n",
    "Ac = 120*np.pi*0.794**2 + 6*np.pi*0.635**2\n",
    "AcR1 = 18*Ac\n",
    "AcR2 = 24*Ac\n",
    "AcR3 = 24*Ac\n",
    "\n",
    "# R1 coolant\n",
    "R1Ri, midR1, R1Ro = calc_Rs(RIR, RR1, AcR1)\n",
    "print(np.round(calc_Rs(RIR, RR1, AcR1), 2))\n",
    "\n",
    "# R2 coolant\n",
    "R2Ri, midR2, R2Ro = calc_Rs(RR1, RR2, AcR2)\n",
    "print(np.round(calc_Rs(RR1, RR2, AcR2), 2))\n",
    "\n",
    "# R3 coolant\n",
    "R3Ri, midR3, R3Ro = calc_Rs(RR2, RR3, AcR3)\n",
    "print(np.round(calc_Rs(RR2, RR3, AcR3), 2))"
   ]
  },
  {
   "cell_type": "code",
   "execution_count": 12,
   "metadata": {},
   "outputs": [
    {
     "name": "stdout",
     "output_type": "stream",
     "text": [
      "310.6\n"
     ]
    }
   ],
   "source": [
    "# RPV\n",
    "t = 340.8-327.5  #cm\n",
    "R = 297.3 + t\n",
    "print(R)"
   ]
  },
  {
   "cell_type": "markdown",
   "metadata": {},
   "source": [
    "## Power density"
   ]
  },
  {
   "cell_type": "code",
   "execution_count": 10,
   "metadata": {},
   "outputs": [
    {
     "name": "stdout",
     "output_type": "stream",
     "text": [
      "Ring one power density:  [ 4.9573133   5.68414705  6.43529391  7.22205732  8.24619338  9.83422275\n",
      " 11.11919146 12.03093274 11.61355785  8.95553876]\n",
      "Ring two power density:  [3.88017895 4.55342791 5.33080732 5.97094567 6.74256671 8.11513723\n",
      " 9.00992332 9.59055856 8.97985186 6.61380325]\n",
      "Ring three power density:  [ 4.21320445  4.99842164  5.82826616  6.5459825   7.44364777  9.06654726\n",
      " 10.14528115 10.83100657 10.10481264  7.13125642]\n"
     ]
    }
   ],
   "source": [
    "# power density averaged in the ring (divided into layers)\n",
    "file = pd.read_csv('power.csv')\n",
    "\n",
    "# W/cm3\n",
    "R1Fs = np.zeros(10)\n",
    "for i in range(1, 7):\n",
    "    fi = np.array(file['F'+str(i)].tolist())\n",
    "    R1Fs += fi/6/1e6\n",
    "\n",
    "R2Fs = np.zeros(10)\n",
    "for i in range(7, 15):\n",
    "    fi = np.array(file['F'+str(i)].tolist())\n",
    "    R2Fs += fi/8/1e6\n",
    "\n",
    "R3Fs = np.zeros(10)\n",
    "for i in range(15, 23):\n",
    "    fi = np.array(file['F'+str(i)].tolist())\n",
    "    R3Fs += fi/8/1e6\n",
    "\n",
    "QR1s = R1Fs*AR1/(AR1-AcR1)\n",
    "QR2s = R2Fs*AR2/(AR2-AcR2)\n",
    "QR3s = R3Fs*AR3/(AR3-AcR3)\n",
    "print('Ring one power density: ', QR1s)\n",
    "print('Ring two power density: ', QR2s)\n",
    "print('Ring three power density: ', QR3s)"
   ]
  },
  {
   "cell_type": "markdown",
   "metadata": {},
   "source": [
    "## Coolant properties"
   ]
  },
  {
   "cell_type": "code",
   "execution_count": 19,
   "metadata": {},
   "outputs": [
    {
     "name": "stdout",
     "output_type": "stream",
     "text": [
      "1701.709941080526\n"
     ]
    }
   ],
   "source": [
    "# helium velocity\n",
    "m = 157.1  # kg/s\n",
    "At = AcR1 + AcR2 + AcR3\n",
    "rho = 5.7030e-6  # kg/cm3\n",
    "v = m/rho/At\n",
    "print(v)  # cm/s"
   ]
  },
  {
   "cell_type": "code",
   "execution_count": 56,
   "metadata": {},
   "outputs": [
    {
     "name": "stdout",
     "output_type": "stream",
     "text": [
      "Re:  379858.61335534276\n",
      "Pr:  0.37637041951219513\n",
      "Nu:  452.5552548816472\n",
      "h:  1593.7604317472117\n",
      "ki:  0.0015938108557548198\n",
      "ko:  0.0015938090644267088\n"
     ]
    }
   ],
   "source": [
    "# simple - film\n",
    "rho = 5.7030  # [kg/m3] 6.4 MPa 259 C\n",
    "cp = 5.188  # [J/g/K] 6.4 MPa 259 C [2]\n",
    "cp *= 1e3  # [J/kg/K]\n",
    "mu = 2.9744e-5  # Pa.s 6.4 MPa 259 C\n",
    "v = 1701.71  # cm/s\n",
    "v /= 100  # m/s\n",
    "\n",
    "ri = R3Ri/100 # m\n",
    "ro = R3Ro/100\n",
    "Ah = np.pi*(ro**2-ri**2)\n",
    "Ph = 2*np.pi*(ri+ro)\n",
    "Dh = 4*Ah/Ph\n",
    "Re = rho * v * Dh / mu\n",
    "print('Re: ', Re)\n",
    "\n",
    "k = 0.41 # W/m/K\n",
    "Pr = mu * cp/k\n",
    "print('Pr: ', Pr)\n",
    "\n",
    "Nu = 0.023*(Re**0.8)*(Pr**0.4)\n",
    "print('Nu: ', Nu)\n",
    "h = Nu/Dh * k  # W/m^2/K\n",
    "print('h: ', h)\n",
    "\n",
    "h /= 1e4  # W/cm^2/K\n",
    "\n",
    "ri *= 100  # cm\n",
    "ro *= 100  # cm\n",
    "dr = 0.01  # cm\n",
    "\n",
    "kgci = h * (ri + dr) * np.log(1 + dr/ri)\n",
    "kgco = h * (ro + dr) * np.log(1 + dr/ro)\n",
    "print('ki: ', kgci)  # W/cm/C\n",
    "print('ko: ', kgco)  # W/cm/C"
   ]
  },
  {
   "cell_type": "code",
   "execution_count": 57,
   "metadata": {},
   "outputs": [
    {
     "name": "stdout",
     "output_type": "stream",
     "text": [
      "0.0015543333333333331\n"
     ]
    }
   ],
   "source": [
    "k1 = 0.001539\n",
    "k2 = 0.001530\n",
    "k3 = 0.001594\n",
    "\n",
    "print((k1+k2+k3)/3)"
   ]
  },
  {
   "cell_type": "markdown",
   "metadata": {},
   "source": [
    "## Unit cell model definition"
   ]
  },
  {
   "cell_type": "code",
   "execution_count": 11,
   "metadata": {},
   "outputs": [
    {
     "name": "stdout",
     "output_type": "stream",
     "text": [
      "[17.00776986 19.50142327 22.07849113 24.77775387 28.29140517 33.73968663\n",
      " 38.14821414 41.27625648 39.84430821 30.7250587 ]\n",
      "[13.31228967 15.62210198 18.28916966 20.48538465 23.13269628 27.84177195\n",
      " 30.91164368 32.90371275 30.80847316 22.69092889]\n",
      "[14.45484829 17.14880616 19.99587347 22.45824645 25.5379962  31.10591157\n",
      " 34.80687956 37.15949667 34.66803838 24.46623012]\n"
     ]
    }
   ],
   "source": [
    "# unitcell - R1 w/layers - power density\n",
    "Af = 210*np.pi*0.6225**2\n",
    "Qf1 = R1Fs*AR1/18/Af\n",
    "print(Qf1)\n",
    "Qf2 = R2Fs*AR1/18/Af\n",
    "print(Qf2)\n",
    "Qf3 = R3Fs*AR1/18/Af\n",
    "print(Qf3)"
   ]
  },
  {
   "cell_type": "code",
   "execution_count": 26,
   "metadata": {},
   "outputs": [
    {
     "name": "stdout",
     "output_type": "stream",
     "text": [
      "Re:  51813.156207773005\n",
      "Pr:  0.37637041951219513\n",
      "Nu:  91.94456614236985\n",
      "h:  2373.8836346581634\n",
      "kgc:  0.002388770158561358\n"
     ]
    }
   ],
   "source": [
    "# unitcell - film\n",
    "rho = 5.7030  # [kg/m3] 6.4 MPa 259 C\n",
    "cp = 5.188  # [J/g/K] 6.4 MPa 259 C [2]\n",
    "cp *= 1e3  # [J/kg/K]\n",
    "mu = 2.9744e-5  # Pa.s 6.4 MPa 259 C\n",
    "v = 1701.71  # cm/s\n",
    "v /= 100  # m/s\n",
    "rc = 1.588/2  # cm\n",
    "D = 2 * rc / 100  # m\n",
    "Re = rho * v * D / mu\n",
    "print('Re: ', Re)\n",
    "\n",
    "k = 0.41 # W/m/K\n",
    "Pr = mu * cp/k\n",
    "print('Pr: ', Pr)\n",
    "\n",
    "Nu = 0.023*(Re**0.8)*(Pr**0.4)\n",
    "print('Nu: ', Nu)\n",
    "h = Nu/D * k  # W/m^2/K\n",
    "print('h: ', h)\n",
    "\n",
    "rc = 1.588/2  # cm\n",
    "dr = 0.01  # cm\n",
    "\n",
    "h /= 1e4  # W/cm^2/K\n",
    "kgc = h * (rc + dr) * np.log(1 + dr/rc)\n",
    "print('kgc: ', kgc)  # W/cm/C"
   ]
  }
 ],
 "metadata": {
  "kernelspec": {
   "display_name": "Python 3",
   "language": "python",
   "name": "python3"
  },
  "language_info": {
   "codemirror_mode": {
    "name": "ipython",
    "version": 3
   },
   "file_extension": ".py",
   "mimetype": "text/x-python",
   "name": "python",
   "nbconvert_exporter": "python",
   "pygments_lexer": "ipython3",
   "version": "3.8.3"
  }
 },
 "nbformat": 4,
 "nbformat_minor": 4
}
