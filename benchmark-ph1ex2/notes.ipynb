{
 "cells": [
  {
   "cell_type": "code",
   "execution_count": 2,
   "metadata": {},
   "outputs": [],
   "source": [
    "import numpy as np\n",
    "import pandas as pd\n",
    "\n",
    "def calc_Rs(R1, R2, A):\n",
    "    midR = (R1+R2)/2\n",
    "    Ro = (A/np.pi+4*midR**2)/4/midR\n",
    "    Ri = 2*midR - Ro   \n",
    "    return Ri, midR, Ro"
   ]
  },
  {
   "cell_type": "code",
   "execution_count": 19,
   "metadata": {},
   "outputs": [
    {
     "name": "stdout",
     "output_type": "stream",
     "text": [
      "RIR:  82.39\n",
      "RR1:  114.97\n",
      "RR2:  147.62\n",
      "RR3:  174.26\n"
     ]
    }
   ],
   "source": [
    "# Rings radius\n",
    "P = 18  # cm\n",
    "F = P/np.cos(np.pi/6)\n",
    "AF = F/2 * P * 6\n",
    "\n",
    "AIR = 19*AF\n",
    "AR1 = 18*AF\n",
    "AR2 = 24*AF\n",
    "AR3 = 24*AF\n",
    "\n",
    "RIR = np.sqrt(1/np.pi*AIR)\n",
    "print('RIR: ', np.round(RIR, 2))\n",
    "RR1 = np.sqrt(1/np.pi*(AIR+AR1))\n",
    "print('RR1: ', np.round(RR1, 2))\n",
    "RR2 = np.sqrt(1/np.pi*(AIR+AR1+AR2))\n",
    "print('RR2: ', np.round(RR2, 2))\n",
    "RR3 = np.sqrt(1/np.pi*(AIR+AR1+AR2+AR3))\n",
    "print('RR3: ', np.round(RR3, 2))"
   ]
  },
  {
   "cell_type": "code",
   "execution_count": 53,
   "metadata": {},
   "outputs": [
    {
     "name": "stdout",
     "output_type": "stream",
     "text": [
      "[ 95.12  98.68 102.24]\n",
      "[127.73 131.3  134.87]\n",
      "[158.03 160.94 163.85]\n"
     ]
    }
   ],
   "source": [
    "# Coolant channel radii\n",
    "Ac = 120*np.pi*0.794**2 + 6*np.pi*0.635**2\n",
    "AcR1 = 18*Ac\n",
    "AcR2 = 24*Ac\n",
    "AcR3 = 24*Ac\n",
    "\n",
    "# R1 coolant\n",
    "R1Ri, midR1, R1Ro = calc_Rs(RIR, RR1, AcR1)\n",
    "print(np.round(calc_Rs(RIR, RR1, AcR1), 2))\n",
    "\n",
    "# R2 coolant\n",
    "R2Ri, midR2, R2Ro = calc_Rs(RR1, RR2, AcR2)\n",
    "print(np.round(calc_Rs(RR1, RR2, AcR2), 2))\n",
    "\n",
    "# R3 coolant\n",
    "R3Ri, midR3, R3Ro = calc_Rs(RR2, RR3, AcR3)\n",
    "print(np.round(calc_Rs(RR2, RR3, AcR3), 2))"
   ]
  },
  {
   "cell_type": "code",
   "execution_count": 18,
   "metadata": {},
   "outputs": [
    {
     "name": "stdout",
     "output_type": "stream",
     "text": [
      "[88.51 90.53 92.56]\n",
      "[105.11 106.83 108.54]\n",
      "[121.15 123.14 125.12]\n",
      "[137.71 139.46 141.21]\n",
      "[152.7  154.28 155.87]\n",
      "[166.15 167.6  169.06]\n"
     ]
    }
   ],
   "source": [
    "# Fuel radius\n",
    "Af = 210*np.pi*0.6225**2\n",
    "AfR1 = 18*Af/2\n",
    "AfR2 = 24*Af/2\n",
    "AfR3 = 24*Af/2\n",
    "\n",
    "# R1\n",
    "print(np.round(calc_Rs(RIR, midR1, AfR1), 2))\n",
    "print(np.round(calc_Rs(midR1, RR1, AfR1), 2))\n",
    "\n",
    "# R2\n",
    "print(np.round(calc_Rs(RR1, midR2, AfR2), 2))\n",
    "print(np.round(calc_Rs(midR2, RR2, AfR2), 2))\n",
    "\n",
    "# R3\n",
    "print(np.round(calc_Rs(RR2, midR3, AfR3), 2))\n",
    "print(np.round(calc_Rs(midR3, RR3, AfR3), 2))"
   ]
  },
  {
   "cell_type": "markdown",
   "metadata": {},
   "source": [
    "## assembly"
   ]
  },
  {
   "cell_type": "code",
   "execution_count": 3,
   "metadata": {},
   "outputs": [
    {
     "name": "stdout",
     "output_type": "stream",
     "text": [
      "Assembly radius:  18.90135244455595\n",
      "[ 7.39  9.45 11.52]\n",
      "[2.57 4.73 6.88]\n",
      "[13.46 14.18 14.89]\n"
     ]
    }
   ],
   "source": [
    "P = 18  # cm\n",
    "F = P/np.cos(np.pi/6)\n",
    "AF = F/2 * P * 6\n",
    "Ac = 120*np.pi*0.794**2 + 6*np.pi*0.635**2\n",
    "Af = 210*np.pi*0.6225**2\n",
    "\n",
    "R = np.sqrt(1/np.pi*AF)\n",
    "print('Assembly radius: ', R)\n",
    "\n",
    "_, midR, _ = calc_Rs(0, R, Ac)\n",
    "print(np.round(calc_Rs(0, R, Ac), 2))\n",
    "\n",
    "print(np.round(calc_Rs(0, midR, Af/2), 2))\n",
    "print(np.round(calc_Rs(midR, R, Af/2), 2))\n"
   ]
  },
  {
   "cell_type": "markdown",
   "metadata": {},
   "source": [
    "## simple"
   ]
  },
  {
   "cell_type": "code",
   "execution_count": 9,
   "metadata": {},
   "outputs": [
    {
     "name": "stdout",
     "output_type": "stream",
     "text": [
      "Ring one power density:  6.72835\n",
      "Ring two power density:  5.3755250000000006\n",
      "Ring three power density:  5.9632875\n",
      "Ring one adjusted power density:  8.609844851899053\n",
      "Ring two adjusted power density:  6.878720079589299\n",
      "Ring three adjusted power density:  7.630842655668771\n"
     ]
    }
   ],
   "source": [
    "# power density\n",
    "file = pd.read_csv('power.csv')\n",
    "\n",
    "# W/cm3\n",
    "R1Fs = []\n",
    "for i in range(1, 7):\n",
    "    fi = np.array(file['F'+str(i)].tolist())\n",
    "    R1Fs.append(np.average(fi)/1e6)\n",
    "R1F = np.average(np.array(R1Fs))\n",
    "\n",
    "R2Fs = []\n",
    "for i in range(7, 15):\n",
    "    fi = np.array(file['F'+str(i)].tolist())\n",
    "    R2Fs.append(np.average(fi)/1e6)\n",
    "R2F = np.average(np.array(R2Fs))\n",
    "\n",
    "R3Fs = []\n",
    "for i in range(15, 23):\n",
    "    fi = np.array(file['F'+str(i)].tolist())\n",
    "    R3Fs.append(np.average(fi)/1e6)\n",
    "R3F = np.average(np.array(R3Fs))\n",
    "\n",
    "print('Ring one power density: ', R1F)\n",
    "print('Ring two power density: ', R2F)\n",
    "print('Ring three power density: ', R3F)\n",
    "\n",
    "# Rings radius\n",
    "P = 18  # cm\n",
    "F = P/np.cos(np.pi/6)\n",
    "AF = F/2 * P * 6\n",
    "\n",
    "AIR = 19*AF\n",
    "AR1 = 18*AF\n",
    "AR2 = 24*AF\n",
    "AR3 = 24*AF\n",
    "\n",
    "# Coolant channel radii\n",
    "Ac = 120*np.pi*0.794**2 + 6*np.pi*0.635**2\n",
    "AcR1 = 18*Ac\n",
    "AcR2 = 24*Ac\n",
    "AcR3 = 24*Ac\n",
    "\n",
    "QR1 = R1F*AR1/(AR1-AcR1)\n",
    "QR2 = R2F*AR2/(AR2-AcR2)\n",
    "QR3 = R3F*AR3/(AR3-AcR3)\n",
    "print('Ring one adjusted power density: ', QR1)\n",
    "print('Ring two adjusted power density: ', QR2)\n",
    "print('Ring three adjusted power density: ', QR3)"
   ]
  },
  {
   "cell_type": "code",
   "execution_count": 10,
   "metadata": {},
   "outputs": [
    {
     "name": "stdout",
     "output_type": "stream",
     "text": [
      "Ring one power density:  [ 4.9573133   5.68414705  6.43529391  7.22205732  8.24619338  9.83422275\n",
      " 11.11919146 12.03093274 11.61355785  8.95553876]\n",
      "Ring two power density:  [3.88017895 4.55342791 5.33080732 5.97094567 6.74256671 8.11513723\n",
      " 9.00992332 9.59055856 8.97985186 6.61380325]\n",
      "Ring three power density:  [ 4.21320445  4.99842164  5.82826616  6.5459825   7.44364777  9.06654726\n",
      " 10.14528115 10.83100657 10.10481264  7.13125642]\n"
     ]
    }
   ],
   "source": [
    "# power density averaged in the ring (divided into layers)\n",
    "file = pd.read_csv('power.csv')\n",
    "\n",
    "# W/cm3\n",
    "R1Fs = np.zeros(10)\n",
    "for i in range(1, 7):\n",
    "    fi = np.array(file['F'+str(i)].tolist())\n",
    "    R1Fs += fi/6/1e6\n",
    "\n",
    "R2Fs = np.zeros(10)\n",
    "for i in range(7, 15):\n",
    "    fi = np.array(file['F'+str(i)].tolist())\n",
    "    R2Fs += fi/8/1e6\n",
    "\n",
    "R3Fs = np.zeros(10)\n",
    "for i in range(15, 23):\n",
    "    fi = np.array(file['F'+str(i)].tolist())\n",
    "    R3Fs += fi/8/1e6\n",
    "\n",
    "QR1s = R1Fs*AR1/(AR1-AcR1)\n",
    "QR2s = R2Fs*AR2/(AR2-AcR2)\n",
    "QR3s = R3Fs*AR3/(AR3-AcR3)\n",
    "print('Ring one power density: ', QR1s)\n",
    "print('Ring two power density: ', QR2s)\n",
    "print('Ring three power density: ', QR3s)"
   ]
  },
  {
   "cell_type": "code",
   "execution_count": 19,
   "metadata": {},
   "outputs": [
    {
     "name": "stdout",
     "output_type": "stream",
     "text": [
      "1701.709941080526\n"
     ]
    }
   ],
   "source": [
    "# helium velocity\n",
    "m = 157.1  # kg/s\n",
    "At = AcR1 + AcR2 + AcR3\n",
    "rho = 5.7030e-6  # kg/cm3\n",
    "v = m/rho/At\n",
    "print(v)  # cm/s"
   ]
  },
  {
   "cell_type": "code",
   "execution_count": 56,
   "metadata": {},
   "outputs": [
    {
     "name": "stdout",
     "output_type": "stream",
     "text": [
      "Re:  379858.61335534276\n",
      "Pr:  0.37637041951219513\n",
      "Nu:  452.5552548816472\n",
      "h:  1593.7604317472117\n",
      "ki:  0.0015938108557548198\n",
      "ko:  0.0015938090644267088\n"
     ]
    }
   ],
   "source": [
    "# simple - film\n",
    "rho = 5.7030  # [kg/m3] 6.4 MPa 259 C\n",
    "cp = 5.188  # [J/g/K] 6.4 MPa 259 C [2]\n",
    "cp *= 1e3  # [J/kg/K]\n",
    "mu = 2.9744e-5  # Pa.s 6.4 MPa 259 C\n",
    "v = 1701.71  # cm/s\n",
    "v /= 100  # m/s\n",
    "\n",
    "ri = R3Ri/100 # m\n",
    "ro = R3Ro/100\n",
    "Ah = np.pi*(ro**2-ri**2)\n",
    "Ph = 2*np.pi*(ri+ro)\n",
    "Dh = 4*Ah/Ph\n",
    "Re = rho * v * Dh / mu\n",
    "print('Re: ', Re)\n",
    "\n",
    "k = 0.41 # W/m/K\n",
    "Pr = mu * cp/k\n",
    "print('Pr: ', Pr)\n",
    "\n",
    "Nu = 0.023*(Re**0.8)*(Pr**0.4)\n",
    "print('Nu: ', Nu)\n",
    "h = Nu/Dh * k  # W/m^2/K\n",
    "print('h: ', h)\n",
    "\n",
    "h /= 1e4  # W/cm^2/K\n",
    "\n",
    "ri *= 100  # cm\n",
    "ro *= 100  # cm\n",
    "dr = 0.01  # cm\n",
    "\n",
    "kgci = h * (ri + dr) * np.log(1 + dr/ri)\n",
    "kgco = h * (ro + dr) * np.log(1 + dr/ro)\n",
    "print('ki: ', kgci)  # W/cm/C\n",
    "print('ko: ', kgco)  # W/cm/C"
   ]
  },
  {
   "cell_type": "code",
   "execution_count": 57,
   "metadata": {},
   "outputs": [
    {
     "name": "stdout",
     "output_type": "stream",
     "text": [
      "0.0015543333333333331\n"
     ]
    }
   ],
   "source": [
    "k1 = 0.001539\n",
    "k2 = 0.001530\n",
    "k3 = 0.001594\n",
    "\n",
    "print((k1+k2+k3)/3)"
   ]
  },
  {
   "cell_type": "code",
   "execution_count": 51,
   "metadata": {},
   "outputs": [
    {
     "name": "stdout",
     "output_type": "stream",
     "text": [
      "310.6\n"
     ]
    }
   ],
   "source": [
    "# RPV\n",
    "t = 340.8-327.5  #cm\n",
    "R = 297.3 + t\n",
    "print(R)\n",
    "\n",
    "k = 40.0 # W/m/K"
   ]
  },
  {
   "cell_type": "code",
   "execution_count": 49,
   "metadata": {},
   "outputs": [
    {
     "name": "stdout",
     "output_type": "stream",
     "text": [
      "[1.93034972e+12 5.29114367e+12 6.55787056e+12 7.06341112e+12\n",
      " 7.19171931e+12 6.68340332e+12 5.94501959e+12 5.36866520e+12\n",
      " 4.89446021e+12 4.44624417e+12]\n",
      "[610.37829168 784.13588871 826.44379254 841.28510071 844.59523238\n",
      " 828.85613482 804.59468672 784.1354499  766.10482122 747.88706177]\n",
      "[2.8075759  3.74924038 4.20171474 4.49746544 4.71331298 4.87263138\n",
      " 5.00402145 5.11217806 5.20399827 5.28049018]\n",
      "4.544262877865347\n"
     ]
    }
   ],
   "source": [
    "# simple - outer film bc\n",
    "\n",
    "g = 9.8  # m/s^2\n",
    "Tinf = 30  # C: room temperature\n",
    "Tsl = np.array([50, 100, 150, 200, 250, 300, 350, 400, 450, 500])  # Twall\n",
    "L = 200+793+120  # cm\n",
    "L /= 100 # m\n",
    "\n",
    "# data from table A-9 cengel, 1 atm pressure\n",
    "templ = np.array([50, 100, 150, 200, 250, 300, 350, 400, 450, 500])  # C\n",
    "nul = np.array([1.798e-5, 2.306e-5, 2.745e-5, 3.455e-5, 4.091e-5, 4.765e-5, 5.475e-5, 6.219e-5, 6.997e-5, 7.806e-5])  # m^2/s\n",
    "Prl = np.array([0.7228, 0.7111, 0.7041, 0.6974, 0.6946, 0.6935, 0.6937, 0.6948, 0.6965, 0.6986])\n",
    "Tf = 0.5*(Tsl+Tinf)\n",
    "\n",
    "nu = np.interp(Tf, templ, nul)\n",
    "beta = 1/(Tf+273)  # ideal gas assumption\n",
    "\n",
    "# formula 9-16 from Cengel - Heat transfer\n",
    "Gr = g*beta*(Tsl-Tinf)*L**3/nu**2\n",
    "# D = 297.3*2  # cm\n",
    "# L *= 100 # cm\n",
    "# Dt = 35*L/Gr**0.25\n",
    "# print(Dt) # is D > Dt? Dt < D\n",
    "# can't use the vertical plat approximation\n",
    "# need to go to Cebeci 1974\n",
    "\n",
    "Pr = np.interp(Tf, templ, Prl)\n",
    "Ra = Gr * Pr\n",
    "print(Ra)\n",
    "\n",
    "# same correlation for isothermal and constant heat flux\n",
    "# from Laminar Natural Convection From Isothermal Vertical Cylinders: Revistinga Classical Subject\n",
    "D = 297.3*2/100  # m\n",
    "\n",
    "Nufp = 0.68 + 0.67*Ra**0.25/(1+(0.492/Pr)**(9/16))**(4/9)\n",
    "# print(Nufp)\n",
    "Nu = (1 + 0.3*(32**0.5/Gr**0.25*L/D)**0.909)*Nufp\n",
    "print(Nu)\n",
    "\n",
    "kl = [0.02735, 0.03095, 0.03374, 0.03779, 0.04104, 0.04418, 0.04721, 0.05015, 0.05298, 0.05572]  # W/m/K\n",
    "k = np.interp(Tf, templ, kl)\n",
    "h = Nu*k/D\n",
    "print(h)  # W/m2/K\n",
    "print(np.average(h))  # W/m2/K"
   ]
  },
  {
   "cell_type": "code",
   "execution_count": 52,
   "metadata": {},
   "outputs": [
    {
     "name": "stdout",
     "output_type": "stream",
     "text": [
      "29.539036746538077\n"
     ]
    }
   ],
   "source": [
    "# unitcell - R1 - power density\n",
    "Af = 210*np.pi*0.6225**2\n",
    "Qf = R1F*AR1/18/Af\n",
    "print(Qf)"
   ]
  },
  {
   "cell_type": "code",
   "execution_count": 11,
   "metadata": {},
   "outputs": [
    {
     "name": "stdout",
     "output_type": "stream",
     "text": [
      "[17.00776986 19.50142327 22.07849113 24.77775387 28.29140517 33.73968663\n",
      " 38.14821414 41.27625648 39.84430821 30.7250587 ]\n",
      "[13.31228967 15.62210198 18.28916966 20.48538465 23.13269628 27.84177195\n",
      " 30.91164368 32.90371275 30.80847316 22.69092889]\n",
      "[14.45484829 17.14880616 19.99587347 22.45824645 25.5379962  31.10591157\n",
      " 34.80687956 37.15949667 34.66803838 24.46623012]\n"
     ]
    }
   ],
   "source": [
    "# unitcell - R1 w/layers - power density\n",
    "Af = 210*np.pi*0.6225**2\n",
    "Qf1 = R1Fs*AR1/18/Af\n",
    "print(Qf1)\n",
    "Qf2 = R2Fs*AR1/18/Af\n",
    "print(Qf2)\n",
    "Qf3 = R3Fs*AR1/18/Af\n",
    "print(Qf3)"
   ]
  },
  {
   "cell_type": "code",
   "execution_count": 26,
   "metadata": {},
   "outputs": [
    {
     "name": "stdout",
     "output_type": "stream",
     "text": [
      "Re:  51813.156207773005\n",
      "Pr:  0.37637041951219513\n",
      "Nu:  91.94456614236985\n",
      "h:  2373.8836346581634\n",
      "kgc:  0.002388770158561358\n"
     ]
    }
   ],
   "source": [
    "# unitcell - film\n",
    "rho = 5.7030  # [kg/m3] 6.4 MPa 259 C\n",
    "cp = 5.188  # [J/g/K] 6.4 MPa 259 C [2]\n",
    "cp *= 1e3  # [J/kg/K]\n",
    "mu = 2.9744e-5  # Pa.s 6.4 MPa 259 C\n",
    "v = 1701.71  # cm/s\n",
    "v /= 100  # m/s\n",
    "rc = 1.588/2  # cm\n",
    "D = 2 * rc / 100  # m\n",
    "Re = rho * v * D / mu\n",
    "print('Re: ', Re)\n",
    "\n",
    "k = 0.41 # W/m/K\n",
    "Pr = mu * cp/k\n",
    "print('Pr: ', Pr)\n",
    "\n",
    "Nu = 0.023*(Re**0.8)*(Pr**0.4)\n",
    "print('Nu: ', Nu)\n",
    "h = Nu/D * k  # W/m^2/K\n",
    "print('h: ', h)\n",
    "\n",
    "rc = 1.588/2  # cm\n",
    "dr = 0.01  # cm\n",
    "\n",
    "h /= 1e4  # W/cm^2/K\n",
    "kgc = h * (rc + dr) * np.log(1 + dr/rc)\n",
    "print('kgc: ', kgc)  # W/cm/C"
   ]
  },
  {
   "cell_type": "code",
   "execution_count": null,
   "metadata": {},
   "outputs": [],
   "source": []
  }
 ],
 "metadata": {
  "kernelspec": {
   "display_name": "Python 3",
   "language": "python",
   "name": "python3"
  },
  "language_info": {
   "codemirror_mode": {
    "name": "ipython",
    "version": 3
   },
   "file_extension": ".py",
   "mimetype": "text/x-python",
   "name": "python",
   "nbconvert_exporter": "python",
   "pygments_lexer": "ipython3",
   "version": "3.8.3"
  }
 },
 "nbformat": 4,
 "nbformat_minor": 4
}
